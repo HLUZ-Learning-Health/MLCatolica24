{
 "cells": [
  {
   "cell_type": "markdown",
   "metadata": {},
   "source": [
    "# Intro to Python\n",
    "----\n",
    "\n",
    "## Python\n",
    "\n",
    "1. [**Introduction to Jupyter**](#intro_jupyter)\n",
    "2. [**Introduction to Python**](#intro_python)\n",
    "    1. [Basic Notions](#basic_notions)\n",
    "        1. [Expressions](#expressions)\n",
    "        2. [Instructions](#instructions)\n",
    "        3. [Definitions](#definitions)\n",
    "        4. [Loops](#loops)\n",
    "        5. [Functions](#functions)\n",
    "    2. [Structured types in Python](#structured_types)\n",
    "        1. [Strings](#strings)\n",
    "        2. [Lists](#lists)\n",
    "        3. [Dictionaries](#dictionaries)"
   ]
  },
  {
   "cell_type": "markdown",
   "metadata": {},
   "source": [
    "---\n",
    "<a id='intro_jupyter'></a>\n",
    "# Introduction to Jupyter\n",
    "\n",
    "A jupyter notebook is composed of a number of cells. In cells, you can write program code, make marked and unmarked notes. These three types of cells correspond to:\n",
    "    \n",
    "    1. code\n",
    "    2. markdown"
   ]
  },
  {
   "cell_type": "markdown",
   "metadata": {},
   "source": [
    "To work with the contents of a cell, use *Edit mode* (turns on by pressing **Enter** after selecting a cell), and to navigate between cells, use *command mode* (turns on by pressing **Esc**).\n",
    "\n",
    "The cell type can be set in command mode either using hotkeys (**y** to code, **m** to markdown, **r** to edit raw text), or in the menu *Cell -> Cell type* ... "
   ]
  },
  {
   "cell_type": "code",
   "execution_count": 73,
   "metadata": {
    "ExecuteTime": {
     "end_time": "2021-10-27T20:55:33.931951Z",
     "start_time": "2021-10-27T20:55:33.929263Z"
    }
   },
   "outputs": [],
   "source": [
    "# cell with code\n",
    "a = 1"
   ]
  },
  {
   "cell_type": "markdown",
   "metadata": {},
   "source": [
    "After filling the cell, you need to press *Shift + Enter*, this command will process the contents of the cell:   \n",
    "interpret the code or lay out the marked-up text."
   ]
  },
  {
   "cell_type": "code",
   "execution_count": 74,
   "metadata": {
    "ExecuteTime": {
     "end_time": "2021-10-27T20:55:33.982241Z",
     "start_time": "2021-10-27T20:55:33.979690Z"
    }
   },
   "outputs": [],
   "source": [
    "a = 1"
   ]
  },
  {
   "cell_type": "code",
   "execution_count": 75,
   "metadata": {
    "ExecuteTime": {
     "end_time": "2021-10-27T20:55:33.990269Z",
     "start_time": "2021-10-27T20:55:33.987024Z"
    }
   },
   "outputs": [
    {
     "name": "stdout",
     "output_type": "stream",
     "text": [
      "1\n"
     ]
    }
   ],
   "source": [
    "print(a)"
   ]
  },
  {
   "cell_type": "markdown",
   "metadata": {},
   "source": [
    "## A few words about layout\n",
    "[Here](https://athena.brynmawr.edu/jupyter/hub/dblank/public/Jupyter%20Notebook%20Users%20Manual.ipynb) is <s> not </s> a big note on the Markdown markup language. It allows you to:\n",
    "\n",
    "0. Make ordered lists\n",
    "1. #to do ##headers ###different levels\n",
    "3. Highlight *text* <s>when</s> **necessary**\n",
    "4. Add [links](https://athena.brynmawr.edu/jupyter/hub/dblank/public/Jupyter%20Notebook%20Users%20Manual.ipynb)\n",
    "\n",
    "* Create unordered lists\n",
    "\n",
    "Make inserts with LaTex:\n",
    "    \n",
    "$$\n",
    "\\sin(-\\alpha)=-\\sin(\\alpha) \\\\\n",
    "\\arccos(x)=\\arcsin(u) \\\\\n",
    "\\log_n(n)=1 \\\\\n",
    "\\tan(x) = \\frac{\\sin(x)}{\\cos(x)}\n",
    "$$\n",
    "\n",
    "You can also insert images:\n",
    "\n",
    "<!-- <img src = \"http://groups.ist.utl.pt/wwwelab/wiki/images/8/81/Ist.jpg\"> -->\n",
    "\n"
   ]
  },
  {
   "cell_type": "markdown",
   "metadata": {},
   "source": [
    "<img src = \"https://www.ucp.pt/sites/default/files/styles/large/public/2020-11/LogoHorizontal_FMCores_PT.jpg\">"
   ]
  },
  {
   "cell_type": "markdown",
   "metadata": {},
   "source": [
    "---\n",
    "<a id='intro_python'></a>\n",
    "# Introduction to Python\n",
    "\n",
    "**Python** is a high-level programming language that found wide applicability in artificial intelligence, machine learning and data science thanks to the wide range of modules that are available. \n",
    "\n",
    "We provide a quick primer of the language that is (hopefully) enough to get you started in your way to apply Machine Learning. If you have prior programming experience, you will find that the language is quite accessible and easy to work with.\n",
    "\n",
    "\n",
    "<a id='basic_notions'></a>\n",
    "## Basic notions\n",
    "\n",
    "Python code comes in the form of _scripts_ that are typically not _compiled_, but _interpreted_. A script is a sequence of _commands_ which are intepreted sequentially. You can think of the code blocks in a Jupyter notebook as forming a Python script, consisting of the sequence of commands in the code blocks in the order you evaluate them.\n",
    "\n",
    "There are three types of commands in Python: **expressions**, **instructions**, and **definitions**. "
   ]
  },
  {
   "cell_type": "markdown",
   "metadata": {},
   "source": [
    "<a id='expressions'></a>\n",
    "### Expressions\n",
    "\n",
    "_Expressions_ are commands that have a _value_. When Python interprets an expression it returns the corresponding value. Expressions can correspond to _constants_ (such as numbers, logical values, or strings)"
   ]
  },
  {
   "cell_type": "markdown",
   "metadata": {
    "ExecuteTime": {
     "end_time": "2021-10-26T13:53:13.794981Z",
     "start_time": "2021-10-26T13:53:13.789248Z"
    }
   },
   "source": [
    "#### Constant expressions"
   ]
  },
  {
   "cell_type": "code",
   "execution_count": 76,
   "metadata": {
    "ExecuteTime": {
     "end_time": "2021-10-27T20:55:34.035256Z",
     "start_time": "2021-10-27T20:55:34.026421Z"
    }
   },
   "outputs": [
    {
     "data": {
      "text/plain": [
       "12345"
      ]
     },
     "execution_count": 76,
     "metadata": {},
     "output_type": "execute_result"
    }
   ],
   "source": [
    "# Integer number\n",
    "12345"
   ]
  },
  {
   "cell_type": "code",
   "execution_count": 77,
   "metadata": {
    "ExecuteTime": {
     "end_time": "2021-10-27T20:55:34.042105Z",
     "start_time": "2021-10-27T20:55:34.038007Z"
    }
   },
   "outputs": [
    {
     "data": {
      "text/plain": [
       "1.2"
      ]
     },
     "execution_count": 77,
     "metadata": {},
     "output_type": "execute_result"
    }
   ],
   "source": [
    "# Floating point number\n",
    "1.2"
   ]
  },
  {
   "cell_type": "code",
   "execution_count": 78,
   "metadata": {
    "ExecuteTime": {
     "end_time": "2021-10-27T20:55:34.049071Z",
     "start_time": "2021-10-27T20:55:34.045265Z"
    }
   },
   "outputs": [
    {
     "data": {
      "text/plain": [
       "'Hello, world!'"
      ]
     },
     "execution_count": 78,
     "metadata": {},
     "output_type": "execute_result"
    }
   ],
   "source": [
    "# A string (strings are delimited either by ' ' or by \" \")\n",
    "'Hello, world!'"
   ]
  },
  {
   "cell_type": "code",
   "execution_count": 79,
   "metadata": {
    "ExecuteTime": {
     "end_time": "2021-10-27T20:55:34.055580Z",
     "start_time": "2021-10-27T20:55:34.051894Z"
    }
   },
   "outputs": [
    {
     "data": {
      "text/plain": [
       "True"
      ]
     },
     "execution_count": 79,
     "metadata": {},
     "output_type": "execute_result"
    }
   ],
   "source": [
    "# Logical values\n",
    "True"
   ]
  },
  {
   "cell_type": "markdown",
   "metadata": {},
   "source": [
    "The character `#` marks a comment: Python ignores everything following that character. Note that, when you evaluate a cell where the last command is an expression, you get the value of the expression as a result.\n",
    "\n",
    "#### Compound expressions\n",
    "\n",
    "Let's now see examples of _compound expressions,_ which typically consist of operations involving simpler expressions."
   ]
  },
  {
   "cell_type": "code",
   "execution_count": 80,
   "metadata": {
    "ExecuteTime": {
     "end_time": "2021-10-27T20:55:34.062305Z",
     "start_time": "2021-10-27T20:55:34.058682Z"
    }
   },
   "outputs": [
    {
     "data": {
      "text/plain": [
       "3"
      ]
     },
     "execution_count": 80,
     "metadata": {},
     "output_type": "execute_result"
    }
   ],
   "source": [
    "# Operations with numbers\n",
    "1 + 2"
   ]
  },
  {
   "cell_type": "code",
   "execution_count": 91,
   "metadata": {
    "ExecuteTime": {
     "end_time": "2021-10-27T20:55:34.068855Z",
     "start_time": "2021-10-27T20:55:34.064790Z"
    }
   },
   "outputs": [
    {
     "data": {
      "text/plain": [
       "-1.0"
      ]
     },
     "execution_count": 91,
     "metadata": {},
     "output_type": "execute_result"
    }
   ],
   "source": [
    "2 - 3."
   ]
  },
  {
   "cell_type": "code",
   "execution_count": 92,
   "metadata": {
    "ExecuteTime": {
     "end_time": "2021-10-27T20:55:34.077288Z",
     "start_time": "2021-10-27T20:55:34.072728Z"
    }
   },
   "outputs": [
    {
     "data": {
      "text/plain": [
       "2.5"
      ]
     },
     "execution_count": 92,
     "metadata": {},
     "output_type": "execute_result"
    }
   ],
   "source": [
    "5 / 2"
   ]
  },
  {
   "cell_type": "code",
   "execution_count": 93,
   "metadata": {
    "ExecuteTime": {
     "end_time": "2021-10-27T20:55:34.084499Z",
     "start_time": "2021-10-27T20:55:34.080030Z"
    }
   },
   "outputs": [
    {
     "data": {
      "text/plain": [
       "-2.2857142857142856"
      ]
     },
     "execution_count": 93,
     "metadata": {},
     "output_type": "execute_result"
    }
   ],
   "source": [
    "2 - (3 + 4.5 * 6) / 7"
   ]
  },
  {
   "cell_type": "code",
   "execution_count": 88,
   "metadata": {
    "ExecuteTime": {
     "end_time": "2021-10-27T20:55:34.105455Z",
     "start_time": "2021-10-27T20:55:34.101810Z"
    }
   },
   "outputs": [
    {
     "data": {
      "text/plain": [
       "False"
      ]
     },
     "execution_count": 88,
     "metadata": {},
     "output_type": "execute_result"
    }
   ],
   "source": [
    "# Logical operations\n",
    "True and False"
   ]
  },
  {
   "cell_type": "code",
   "execution_count": 89,
   "metadata": {
    "ExecuteTime": {
     "end_time": "2021-10-27T20:55:34.112220Z",
     "start_time": "2021-10-27T20:55:34.108324Z"
    }
   },
   "outputs": [
    {
     "data": {
      "text/plain": [
       "True"
      ]
     },
     "execution_count": 89,
     "metadata": {},
     "output_type": "execute_result"
    }
   ],
   "source": [
    "True or False"
   ]
  },
  {
   "cell_type": "code",
   "execution_count": 94,
   "metadata": {
    "ExecuteTime": {
     "end_time": "2021-10-27T20:55:34.118386Z",
     "start_time": "2021-10-27T20:55:34.114697Z"
    }
   },
   "outputs": [
    {
     "data": {
      "text/plain": [
       "False"
      ]
     },
     "execution_count": 94,
     "metadata": {},
     "output_type": "execute_result"
    }
   ],
   "source": [
    "2 > 3.0"
   ]
  },
  {
   "cell_type": "code",
   "execution_count": 96,
   "metadata": {
    "ExecuteTime": {
     "end_time": "2021-10-27T20:55:34.124631Z",
     "start_time": "2021-10-27T20:55:34.120549Z"
    }
   },
   "outputs": [
    {
     "data": {
      "text/plain": [
       "False"
      ]
     },
     "execution_count": 96,
     "metadata": {},
     "output_type": "execute_result"
    }
   ],
   "source": [
    "'abc' == 'a'"
   ]
  },
  {
   "cell_type": "markdown",
   "metadata": {},
   "source": [
    "#### Function evaluation expressions"
   ]
  },
  {
   "cell_type": "code",
   "execution_count": 97,
   "metadata": {
    "ExecuteTime": {
     "end_time": "2021-10-27T20:55:34.131657Z",
     "start_time": "2021-10-27T20:55:34.127499Z"
    }
   },
   "outputs": [
    {
     "data": {
      "text/plain": [
       "3.0"
      ]
     },
     "execution_count": 97,
     "metadata": {},
     "output_type": "execute_result"
    }
   ],
   "source": [
    "# Function: abs (computes the absolute value of a number)\n",
    "abs(-3.)"
   ]
  },
  {
   "cell_type": "code",
   "execution_count": 98,
   "metadata": {
    "ExecuteTime": {
     "end_time": "2021-10-27T20:55:34.137851Z",
     "start_time": "2021-10-27T20:55:34.134286Z"
    }
   },
   "outputs": [
    {
     "data": {
      "text/plain": [
       "3"
      ]
     },
     "execution_count": 98,
     "metadata": {},
     "output_type": "execute_result"
    }
   ],
   "source": [
    "# Function: len (returns the length of a structured type - in this case, a string)\n",
    "len('abc')"
   ]
  },
  {
   "cell_type": "code",
   "execution_count": 99,
   "metadata": {
    "ExecuteTime": {
     "end_time": "2021-10-27T20:55:34.143869Z",
     "start_time": "2021-10-27T20:55:34.140256Z"
    }
   },
   "outputs": [
    {
     "data": {
      "text/plain": [
       "5"
      ]
     },
     "execution_count": 99,
     "metadata": {},
     "output_type": "execute_result"
    }
   ],
   "source": [
    "# Function: max (returns the maximum of its arguments)\n",
    "max(1, 2, 3, 4, 5)"
   ]
  },
  {
   "cell_type": "markdown",
   "metadata": {},
   "source": [
    "A useful function to get data from the keyboard is `input`. This function returns as its value a _string_ corresponding to the sequence of keys inserted by the user in the keyboard. For example:"
   ]
  },
  {
   "cell_type": "code",
   "execution_count": 100,
   "metadata": {
    "ExecuteTime": {
     "end_time": "2021-10-27T20:56:03.233878Z",
     "start_time": "2021-10-27T20:55:34.146297Z"
    }
   },
   "outputs": [
    {
     "data": {
      "text/plain": [
       "'hi'"
      ]
     },
     "execution_count": 100,
     "metadata": {},
     "output_type": "execute_result"
    }
   ],
   "source": [
    "input()"
   ]
  },
  {
   "cell_type": "markdown",
   "metadata": {
    "ExecuteTime": {
     "end_time": "2021-10-26T14:21:34.819005Z",
     "start_time": "2021-10-26T14:21:34.812813Z"
    }
   },
   "source": [
    "You can also pass it as a parameter a string to be printed before waiting for the user's input. You could have an interaction like the following:"
   ]
  },
  {
   "cell_type": "code",
   "execution_count": 101,
   "metadata": {
    "ExecuteTime": {
     "end_time": "2021-10-27T20:56:05.586346Z",
     "start_time": "2021-10-27T20:56:03.236774Z"
    }
   },
   "outputs": [
    {
     "data": {
      "text/plain": [
       "'hi'"
      ]
     },
     "execution_count": 101,
     "metadata": {},
     "output_type": "execute_result"
    }
   ],
   "source": [
    "input('Please type something: ')"
   ]
  },
  {
   "cell_type": "markdown",
   "metadata": {},
   "source": [
    "#### Name expressions\n",
    "\n",
    "To provide an example of a name expression, let's first talk about _names._ You can think of names as \"variables\" in Python, and these are defined through the _assignment instruction,_ using the symbol `=`. You create a name by _assigning it to the value of an expression._ For example, if you write:"
   ]
  },
  {
   "cell_type": "code",
   "execution_count": 1,
   "metadata": {
    "ExecuteTime": {
     "end_time": "2021-10-27T20:56:05.597582Z",
     "start_time": "2021-10-27T20:56:05.592734Z"
    }
   },
   "outputs": [],
   "source": [
    "a = 2"
   ]
  },
  {
   "cell_type": "code",
   "execution_count": 103,
   "metadata": {},
   "outputs": [
    {
     "data": {
      "text/plain": [
       "2"
      ]
     },
     "execution_count": 103,
     "metadata": {},
     "output_type": "execute_result"
    }
   ],
   "source": [
    "a"
   ]
  },
  {
   "cell_type": "code",
   "execution_count": 104,
   "metadata": {},
   "outputs": [
    {
     "data": {
      "text/plain": [
       "3"
      ]
     },
     "execution_count": 104,
     "metadata": {},
     "output_type": "execute_result"
    }
   ],
   "source": [
    "a+1"
   ]
  },
  {
   "cell_type": "code",
   "execution_count": 105,
   "metadata": {},
   "outputs": [
    {
     "data": {
      "text/plain": [
       "2"
      ]
     },
     "execution_count": 105,
     "metadata": {},
     "output_type": "execute_result"
    }
   ],
   "source": [
    "a"
   ]
  },
  {
   "cell_type": "markdown",
   "metadata": {},
   "source": [
    "you are assigning the name `a` to the value of the expression `2`. Names can be any sequence of letters, numbers and underscore not starting with a number. For example, `abc123_` and `_123abc` are valid names, but `123abc` is not. For example, if you try to run the cells below, you will get an error in the third cell."
   ]
  },
  {
   "cell_type": "code",
   "execution_count": 106,
   "metadata": {
    "ExecuteTime": {
     "end_time": "2021-10-27T20:56:05.606667Z",
     "start_time": "2021-10-27T20:56:05.603596Z"
    }
   },
   "outputs": [],
   "source": [
    "abc123_ = 1"
   ]
  },
  {
   "cell_type": "code",
   "execution_count": 107,
   "metadata": {
    "ExecuteTime": {
     "end_time": "2021-10-27T20:56:05.613405Z",
     "start_time": "2021-10-27T20:56:05.609650Z"
    }
   },
   "outputs": [],
   "source": [
    "_123abc = 2"
   ]
  },
  {
   "cell_type": "markdown",
   "metadata": {},
   "source": [
    "You cannot start a name with numbers!"
   ]
  },
  {
   "cell_type": "code",
   "execution_count": 26,
   "metadata": {
    "ExecuteTime": {
     "end_time": "2021-10-27T20:56:05.621550Z",
     "start_time": "2021-10-27T20:56:05.617017Z"
    }
   },
   "outputs": [
    {
     "ename": "SyntaxError",
     "evalue": "invalid decimal literal (1622848516.py, line 1)",
     "output_type": "error",
     "traceback": [
      "\u001b[0;36m  Cell \u001b[0;32mIn[26], line 1\u001b[0;36m\u001b[0m\n\u001b[0;31m    123abc_ = 3\u001b[0m\n\u001b[0m      ^\u001b[0m\n\u001b[0;31mSyntaxError\u001b[0m\u001b[0;31m:\u001b[0m invalid decimal literal\n"
     ]
    }
   ],
   "source": [
    "123abc_ = 3"
   ]
  },
  {
   "cell_type": "markdown",
   "metadata": {},
   "source": [
    "Note that an assignment _is not an expression_ and, as such, it has no value. We can finally provide examples of name expressions."
   ]
  },
  {
   "cell_type": "code",
   "execution_count": 108,
   "metadata": {
    "ExecuteTime": {
     "end_time": "2021-10-27T20:56:16.948160Z",
     "start_time": "2021-10-27T20:56:16.943931Z"
    }
   },
   "outputs": [
    {
     "data": {
      "text/plain": [
       "2"
      ]
     },
     "execution_count": 108,
     "metadata": {},
     "output_type": "execute_result"
    }
   ],
   "source": [
    "a"
   ]
  },
  {
   "cell_type": "markdown",
   "metadata": {},
   "source": [
    "The value of a name expression is the value of the expression assigned to the name.\n",
    "\n",
    "Putting everything together, you could have the following interaction:"
   ]
  },
  {
   "cell_type": "code",
   "execution_count": 109,
   "metadata": {
    "ExecuteTime": {
     "end_time": "2021-10-27T20:56:26.360962Z",
     "start_time": "2021-10-27T20:56:16.958881Z"
    }
   },
   "outputs": [
    {
     "data": {
      "text/plain": [
       "'simao, in 10 years you will be 29'"
      ]
     },
     "execution_count": 109,
     "metadata": {},
     "output_type": "execute_result"
    }
   ],
   "source": [
    "name = input(\"What's your name? \")\n",
    "age  = input(\"How old are you, \" + name + \"? \")\n",
    "name + \", in 10 years you will be \" + str(int(age) + 10)"
   ]
  },
  {
   "cell_type": "markdown",
   "metadata": {},
   "source": [
    "<a id='instructions'></a>\n",
    "### Instructions\n",
    "\n",
    "_Instructions_ are commands that do not have a value, and are mostly used to control the flow of a program.\n",
    "\n",
    "For example, when you want to write something to the screen, you can use the `print` instruction.    \n",
    "`print` receives as arguments any sequence of expressions (separated by commas) and prints them on the screen.    \n",
    "For example, you can have:"
   ]
  },
  {
   "cell_type": "code",
   "execution_count": 110,
   "metadata": {},
   "outputs": [
    {
     "name": "stdout",
     "output_type": "stream",
     "text": [
      "12345 1.2 Hello, world! True\n"
     ]
    }
   ],
   "source": [
    "print(12345, 1.2, 'Hello, world!', True)"
   ]
  },
  {
   "cell_type": "code",
   "execution_count": 112,
   "metadata": {
    "ExecuteTime": {
     "end_time": "2021-10-27T20:56:26.369258Z",
     "start_time": "2021-10-27T20:56:26.363357Z"
    }
   },
   "outputs": [
    {
     "name": "stdout",
     "output_type": "stream",
     "text": [
      "3 -1.0 2.5 -2.2857142857142856\n"
     ]
    }
   ],
   "source": [
    "print(1 + 2, 2 - 3., 5 / 2, 2 - (3 + 4.5 * 6) / 7)"
   ]
  },
  {
   "cell_type": "code",
   "execution_count": 114,
   "metadata": {},
   "outputs": [
    {
     "name": "stdout",
     "output_type": "stream",
     "text": [
      "3.0 3 5\n"
     ]
    }
   ],
   "source": [
    "print(abs(-3.), len('abc'), max(1, 2, 3, 4, 5))"
   ]
  },
  {
   "cell_type": "markdown",
   "metadata": {},
   "source": [
    "Other type of instructions include conditionals - `if/else statements`:"
   ]
  },
  {
   "cell_type": "code",
   "execution_count": 2,
   "metadata": {},
   "outputs": [],
   "source": [
    "a = 3"
   ]
  },
  {
   "cell_type": "code",
   "execution_count": 116,
   "metadata": {
    "ExecuteTime": {
     "end_time": "2021-10-27T20:56:26.385614Z",
     "start_time": "2021-10-27T20:56:26.381122Z"
    }
   },
   "outputs": [
    {
     "name": "stdout",
     "output_type": "stream",
     "text": [
      "3 is larger than 1.\n"
     ]
    }
   ],
   "source": [
    "if a > 1:\n",
    "    print(a, 'is larger than 1.')"
   ]
  },
  {
   "cell_type": "code",
   "execution_count": 117,
   "metadata": {},
   "outputs": [],
   "source": [
    "if a < 1:\n",
    "    print(a, 'is smaller than 1.')"
   ]
  },
  {
   "cell_type": "markdown",
   "metadata": {},
   "source": [
    "We can add an `else`!"
   ]
  },
  {
   "cell_type": "code",
   "execution_count": 120,
   "metadata": {},
   "outputs": [],
   "source": [
    "a = 1"
   ]
  },
  {
   "cell_type": "code",
   "execution_count": 3,
   "metadata": {},
   "outputs": [
    {
     "name": "stdout",
     "output_type": "stream",
     "text": [
      "3 is larger than 1.\n"
     ]
    }
   ],
   "source": [
    "if a > 1:\n",
    "    print(a, 'is larger than 1.')\n",
    "else:\n",
    "    print(a, 'is not larger than 1.')"
   ]
  },
  {
   "cell_type": "markdown",
   "metadata": {},
   "source": [
    "Note that, inside each condition in the `if` statement is a block of instructions that is _indented._ Indentation, in Python, is used to delimit blocks of instructions, and Python will throw an error if the code is not properly indented.\n",
    "\n",
    "<a id='loops'></a>\n",
    "#### Loops\n",
    "\n",
    "Loops help us automate a repetitive task and simplify code!\n",
    "\n",
    "Let's print a bunch of numbers from 1 to 10"
   ]
  },
  {
   "cell_type": "code",
   "execution_count": 246,
   "metadata": {},
   "outputs": [
    {
     "name": "stdout",
     "output_type": "stream",
     "text": [
      "a: 1\n",
      "a: 2\n",
      "a: 3\n",
      "a: 4\n",
      "a: 5\n",
      "a: 6\n",
      "a: 7\n",
      "a: 8\n",
      "a: 9\n",
      "a: 10\n"
     ]
    }
   ],
   "source": [
    "a = 0\n",
    "a = a + 1\n",
    "print('a:',a)\n",
    "a = a +1\n",
    "print('a:',a)\n",
    "a = a +1\n",
    "print('a:',a)\n",
    "a = a +1\n",
    "print('a:',a)\n",
    "a = a +1\n",
    "print('a:',a)\n",
    "a = a +1\n",
    "print('a:',a)\n",
    "a = a +1\n",
    "print('a:',a)\n",
    "a = a +1\n",
    "print('a:',a)\n",
    "a = a +1\n",
    "print('a:',a)\n",
    "a = a +1\n",
    "print('a:',a)"
   ]
  },
  {
   "cell_type": "markdown",
   "metadata": {},
   "source": [
    "With loops this is a lot easier"
   ]
  },
  {
   "cell_type": "code",
   "execution_count": 247,
   "metadata": {
    "ExecuteTime": {
     "end_time": "2021-10-27T20:56:26.396174Z",
     "start_time": "2021-10-27T20:56:26.388429Z"
    }
   },
   "outputs": [
    {
     "name": "stdout",
     "output_type": "stream",
     "text": [
      "a: 1\n",
      "a: 2\n",
      "a: 3\n",
      "a: 4\n",
      "a: 5\n",
      "a: 6\n",
      "a: 7\n",
      "a: 8\n",
      "a: 9\n",
      "a: 10\n"
     ]
    }
   ],
   "source": [
    "a = 0\n",
    "while a < 10: \n",
    "    a = a + 1\n",
    "    print('a:',a)"
   ]
  },
  {
   "cell_type": "markdown",
   "metadata": {},
   "source": [
    "We can use loops to iterate elements of a list"
   ]
  },
  {
   "cell_type": "code",
   "execution_count": 5,
   "metadata": {},
   "outputs": [
    {
     "name": "stdout",
     "output_type": "stream",
     "text": [
      "1\n",
      "4\n",
      "7\n",
      "9\n",
      "12\n"
     ]
    }
   ],
   "source": [
    "a = [1,4,7,9,12]\n",
    "\n",
    "for e in a:\n",
    "    print(e)"
   ]
  },
  {
   "cell_type": "markdown",
   "metadata": {},
   "source": [
    "We can include as much logic as we want inside a loop:"
   ]
  },
  {
   "cell_type": "code",
   "execution_count": 242,
   "metadata": {},
   "outputs": [
    {
     "name": "stdout",
     "output_type": "stream",
     "text": [
      "Here's e+1 just because: 2\n",
      "Here's e+1 just because: 5\n",
      "Found half of  4 in b!\n",
      "Here's e+1 just because: 6\n",
      "Here's e+1 just because: 9\n",
      "Found half of  8 in b!\n",
      "Here's e+1 just because: 13\n"
     ]
    }
   ],
   "source": [
    "a = [1,4,5,8,12]\n",
    "b = [1,2,3,4]\n",
    "\n",
    "for e in a:\n",
    "    print(\"Here's e+1 just because:\", e+1)\n",
    "    half = e / 2\n",
    "    if half in b:\n",
    "        print('Found half of ', e, \"in b!\")\n",
    "    "
   ]
  },
  {
   "cell_type": "markdown",
   "metadata": {},
   "source": [
    "<a id='functions'></a>\n",
    "#### Functions\n",
    "\n",
    "When you perform the same operation a lot of times in your code, or when you want to keep your main code simple and readable, you abstract away the complexity of your code by creating `functions`."
   ]
  },
  {
   "cell_type": "code",
   "execution_count": 169,
   "metadata": {
    "ExecuteTime": {
     "end_time": "2021-10-27T20:56:26.406772Z",
     "start_time": "2021-10-27T20:56:26.401989Z"
    }
   },
   "outputs": [],
   "source": [
    "def square(x):\n",
    "    return x * x"
   ]
  },
  {
   "cell_type": "markdown",
   "metadata": {},
   "source": [
    "Note that the body of the function is also indented. Python uses the indentation to figure out where the function definition ends.\n",
    "\n",
    "As soon as we define a function, we can use it. For example, if the function returns a value (as is the case of the function `square` above) we can use it in expressions:"
   ]
  },
  {
   "cell_type": "code",
   "execution_count": 170,
   "metadata": {},
   "outputs": [
    {
     "data": {
      "text/plain": [
       "4"
      ]
     },
     "execution_count": 170,
     "metadata": {},
     "output_type": "execute_result"
    }
   ],
   "source": [
    "square(2)"
   ]
  },
  {
   "cell_type": "code",
   "execution_count": 171,
   "metadata": {
    "ExecuteTime": {
     "end_time": "2021-10-27T20:56:26.427890Z",
     "start_time": "2021-10-27T20:56:26.411565Z"
    }
   },
   "outputs": [
    {
     "data": {
      "text/plain": [
       "11"
      ]
     },
     "execution_count": 171,
     "metadata": {},
     "output_type": "execute_result"
    }
   ],
   "source": [
    "2 + square(3)"
   ]
  },
  {
   "cell_type": "markdown",
   "metadata": {},
   "source": [
    "A function that computes the mean of two numbers could be:"
   ]
  },
  {
   "cell_type": "code",
   "execution_count": 129,
   "metadata": {
    "ExecuteTime": {
     "end_time": "2021-10-27T20:56:26.446242Z",
     "start_time": "2021-10-27T20:56:26.438573Z"
    }
   },
   "outputs": [
    {
     "data": {
      "text/plain": [
       "2.5"
      ]
     },
     "execution_count": 129,
     "metadata": {},
     "output_type": "execute_result"
    }
   ],
   "source": [
    "def mean(x, y):\n",
    "    return (x + y) / 2\n",
    "\n",
    "mean(2, 3)"
   ]
  },
  {
   "cell_type": "code",
   "execution_count": 131,
   "metadata": {},
   "outputs": [
    {
     "data": {
      "text/plain": [
       "6.5"
      ]
     },
     "execution_count": 131,
     "metadata": {},
     "output_type": "execute_result"
    }
   ],
   "source": [
    "number1 = 5\n",
    "number2 = 8\n",
    "\n",
    "mean(number1,number2)"
   ]
  },
  {
   "cell_type": "markdown",
   "metadata": {},
   "source": [
    "<a id='structured_types'></a>\n",
    "## Structured types in Python\n",
    "\n",
    "Let's now go over 2 of the most used structured types in Python: **strings** and **lists**"
   ]
  },
  {
   "cell_type": "markdown",
   "metadata": {},
   "source": [
    "<a id='strings'></a>\n",
    "### Strings\n",
    "\n",
    "The first structured type, strings, you've already met. You can recognize a string since it is delimited by `' '` or `\" \"`. Below you can find some examples of operations you can perform on strings:"
   ]
  },
  {
   "cell_type": "code",
   "execution_count": 172,
   "metadata": {},
   "outputs": [
    {
     "data": {
      "text/plain": [
       "28"
      ]
     },
     "execution_count": 172,
     "metadata": {},
     "output_type": "execute_result"
    }
   ],
   "source": [
    "string = 'Hi, i am a string in python!'\n",
    "\n",
    "# Length\n",
    "len(string)"
   ]
  },
  {
   "cell_type": "code",
   "execution_count": 173,
   "metadata": {},
   "outputs": [
    {
     "name": "stdout",
     "output_type": "stream",
     "text": [
      "H\n",
      "!\n"
     ]
    }
   ],
   "source": [
    "# Indexation\n",
    "print(string[0])            # Note that indices start in 0!\n",
    "\n",
    "print(string[-1])           # Negative indices count from the end of the string"
   ]
  },
  {
   "cell_type": "code",
   "execution_count": 176,
   "metadata": {},
   "outputs": [
    {
     "name": "stdout",
     "output_type": "stream",
     "text": [
      "Hi, i am a string in python!\n",
      "Hi, i am a string in python!\n",
      "Hi,\n",
      "Hi, i am a string in python\n"
     ]
    }
   ],
   "source": [
    "# slices\n",
    "print(string[:]) # select the whole string\n",
    "print(string[0:]) # select the string starting from the first element up until the last (same as above)\n",
    "print(string[:3]) # select the string starting from the first element up until the 3rd one (excluding the 3rd one)\n",
    "print(string[:-1]) # select the string starting from the first element up until the last one (excluding the last one)"
   ]
  },
  {
   "cell_type": "markdown",
   "metadata": {},
   "source": [
    "> Question: how can you select only the string `python`?"
   ]
  },
  {
   "cell_type": "code",
   "execution_count": null,
   "metadata": {},
   "outputs": [],
   "source": []
  },
  {
   "cell_type": "markdown",
   "metadata": {},
   "source": [
    "----"
   ]
  },
  {
   "cell_type": "code",
   "execution_count": 178,
   "metadata": {
    "ExecuteTime": {
     "end_time": "2021-10-27T20:56:26.517593Z",
     "start_time": "2021-10-27T20:56:26.507152Z"
    }
   },
   "outputs": [
    {
     "name": "stdout",
     "output_type": "stream",
     "text": [
      "False\n",
      "True\n",
      "True\n"
     ]
    }
   ],
   "source": [
    "# Inclusion - We can easily look for the presence of substrings in strings!\n",
    "print(\"totally not here\" in string)       \n",
    "print('i am' in string)\n",
    "print('supercalifragi' not in string) "
   ]
  },
  {
   "cell_type": "markdown",
   "metadata": {},
   "source": [
    "<a id='lists'></a>\n",
    "### Lists\n",
    "\n",
    "The second structured type, _lists,_ consist of sequences of arbitrary elements (including other lists!). You can recognize a list since it is delimited by `[ ]`. You can perform on lists all operations that you can perform on strings."
   ]
  },
  {
   "cell_type": "code",
   "execution_count": 181,
   "metadata": {},
   "outputs": [],
   "source": [
    "a = [1,2,3] # let's store 3 numbers in this list that we can access by the variable `a`"
   ]
  },
  {
   "cell_type": "code",
   "execution_count": 183,
   "metadata": {},
   "outputs": [
    {
     "data": {
      "text/plain": [
       "1"
      ]
     },
     "execution_count": 183,
     "metadata": {},
     "output_type": "execute_result"
    }
   ],
   "source": [
    "a[0] # access the first element"
   ]
  },
  {
   "cell_type": "code",
   "execution_count": 184,
   "metadata": {},
   "outputs": [
    {
     "data": {
      "text/plain": [
       "2"
      ]
     },
     "execution_count": 184,
     "metadata": {},
     "output_type": "execute_result"
    }
   ],
   "source": [
    "a[1] # access the second element"
   ]
  },
  {
   "cell_type": "code",
   "execution_count": 185,
   "metadata": {},
   "outputs": [
    {
     "data": {
      "text/plain": [
       "3"
      ]
     },
     "execution_count": 185,
     "metadata": {},
     "output_type": "execute_result"
    }
   ],
   "source": [
    "a[2] # access the third element"
   ]
  },
  {
   "cell_type": "markdown",
   "metadata": {},
   "source": [
    "if you access an index that doesn't exist on the list, you get an \"list index our of range\" error"
   ]
  },
  {
   "cell_type": "code",
   "execution_count": 186,
   "metadata": {},
   "outputs": [
    {
     "ename": "IndexError",
     "evalue": "list index out of range",
     "output_type": "error",
     "traceback": [
      "\u001b[0;31m---------------------------------------------------------------------------\u001b[0m",
      "\u001b[0;31mIndexError\u001b[0m                                Traceback (most recent call last)",
      "Cell \u001b[0;32mIn[186], line 1\u001b[0m\n\u001b[0;32m----> 1\u001b[0m a[\u001b[38;5;241m3\u001b[39m]\n",
      "\u001b[0;31mIndexError\u001b[0m: list index out of range"
     ]
    }
   ],
   "source": [
    "a[3]"
   ]
  },
  {
   "cell_type": "markdown",
   "metadata": {},
   "source": [
    " Lists can store anything..."
   ]
  },
  {
   "cell_type": "code",
   "execution_count": 187,
   "metadata": {},
   "outputs": [],
   "source": [
    "a = [5, 1, 2839, \"hi there\"]"
   ]
  },
  {
   "cell_type": "code",
   "execution_count": 197,
   "metadata": {},
   "outputs": [
    {
     "data": {
      "text/plain": [
       "'hi there'"
      ]
     },
     "execution_count": 197,
     "metadata": {},
     "output_type": "execute_result"
    }
   ],
   "source": [
    "a[-1] # looking at the last element of this list"
   ]
  },
  {
   "cell_type": "markdown",
   "metadata": {},
   "source": [
    "... even lists!"
   ]
  },
  {
   "cell_type": "code",
   "execution_count": 198,
   "metadata": {
    "ExecuteTime": {
     "end_time": "2021-10-27T20:56:26.540436Z",
     "start_time": "2021-10-27T20:56:26.532247Z"
    }
   },
   "outputs": [],
   "source": [
    "a = [\"first element\", 20, [\"look\", \"here is a\", \"list\"], 39]"
   ]
  },
  {
   "cell_type": "code",
   "execution_count": 155,
   "metadata": {},
   "outputs": [
    {
     "data": {
      "text/plain": [
       "['first element', 20, ['look', 'here is a', 'list'], 39]"
      ]
     },
     "execution_count": 155,
     "metadata": {},
     "output_type": "execute_result"
    }
   ],
   "source": [
    "# Indexation\n",
    "a"
   ]
  },
  {
   "cell_type": "markdown",
   "metadata": {},
   "source": [
    "> Question: What is the third element of `a`?"
   ]
  },
  {
   "cell_type": "code",
   "execution_count": null,
   "metadata": {},
   "outputs": [],
   "source": []
  },
  {
   "cell_type": "markdown",
   "metadata": {},
   "source": [
    "slicing works as usual:"
   ]
  },
  {
   "cell_type": "code",
   "execution_count": 158,
   "metadata": {},
   "outputs": [],
   "source": [
    "a = [1,2,3,\"4\", [5,\"6\"], 7]"
   ]
  },
  {
   "cell_type": "code",
   "execution_count": 159,
   "metadata": {},
   "outputs": [
    {
     "name": "stdout",
     "output_type": "stream",
     "text": [
      "a[0:3]:  [1, 2, 3]\n",
      "a[0:]:  [1, 2, 3, '4', [5, '6'], 7]\n",
      "a[:3]:  [1, 2, 3]\n",
      "a[1:-1]:  [2, 3, '4', [5, '6']]\n"
     ]
    }
   ],
   "source": [
    "# Slices\n",
    "print('a[0:3]: ', a[0:3])\n",
    "print('a[0:]: ', a[0:])\n",
    "print('a[:3]: ', a[:3])\n",
    "print('a[1:-1]: ', a[1:-1])"
   ]
  },
  {
   "cell_type": "code",
   "execution_count": 164,
   "metadata": {},
   "outputs": [
    {
     "name": "stdout",
     "output_type": "stream",
     "text": [
      "False\n",
      "True\n",
      "True\n",
      "True\n"
     ]
    }
   ],
   "source": [
    "# Inclusion\n",
    "print('a' in a)        # Returns True if 'a' is an element of the list\n",
    "print(1 in a)          \n",
    "\n",
    "print(5 not in a)    # Returns True if the string 'a' is not an element of the list\n",
    "print('6' not in a)"
   ]
  },
  {
   "cell_type": "code",
   "execution_count": 4,
   "metadata": {},
   "outputs": [
    {
     "data": {
      "text/plain": [
       "3"
      ]
     },
     "execution_count": 4,
     "metadata": {},
     "output_type": "execute_result"
    }
   ],
   "source": [
    "a"
   ]
  },
  {
   "cell_type": "code",
   "execution_count": 165,
   "metadata": {},
   "outputs": [
    {
     "name": "stdout",
     "output_type": "stream",
     "text": [
      "List after assigning first element: [\"Now I'm the first element\", 2, 3, '4', [5, '6'], 7]\n"
     ]
    }
   ],
   "source": [
    "# Assignment\n",
    "a[0] = \"Now I'm the first element\"\n",
    "print('List after assigning first element:', a)"
   ]
  },
  {
   "cell_type": "markdown",
   "metadata": {},
   "source": [
    "There are many useful list methods. For more details please see [Python documentation](https://docs.python.org/3/tutorial/datastructures.html).\n",
    "\n",
    "Here are a few examples:"
   ]
  },
  {
   "cell_type": "code",
   "execution_count": 166,
   "metadata": {},
   "outputs": [
    {
     "name": "stdout",
     "output_type": "stream",
     "text": [
      "[\"Now I'm the first element\", 2, 3, '4', [5, '6'], 7, 'hello']\n"
     ]
    }
   ],
   "source": [
    "a.append('hello')  # adds an element \n",
    "print(a)"
   ]
  },
  {
   "cell_type": "code",
   "execution_count": 167,
   "metadata": {},
   "outputs": [
    {
     "name": "stdout",
     "output_type": "stream",
     "text": [
      "[\"Now I'm the first element\", 2, 3, '4', [5, '6'], 7]\n",
      "[\"Now I'm the first element\", 2, '4', [5, '6'], 7]\n"
     ]
    }
   ],
   "source": [
    "a.pop()  # removes and returnes last element in the list\n",
    "print(a)\n",
    "\n",
    "a.pop(2)  # removes item at the given position in the list, and returns it\n",
    "print(a)"
   ]
  },
  {
   "cell_type": "markdown",
   "metadata": {},
   "source": [
    "<a id='dictionaries'></a>\n",
    "### Dictionaries"
   ]
  },
  {
   "cell_type": "markdown",
   "metadata": {},
   "source": [
    "Dictionaries are a very useful way to store and access data. They work as `key`:`value` pairs.\n",
    "\n",
    "Let's look at how we can store the main diagnostics each patient got in their consultation."
   ]
  },
  {
   "cell_type": "code",
   "execution_count": 2,
   "metadata": {},
   "outputs": [],
   "source": [
    "patient_diagnostics = {\n",
    "    \"Alice\": \"Type 2 Diabetes\",\n",
    "    \"Bob\": \"Hypertension\",\n",
    "    \"Clara\": \"Asthma\"\n",
    "}"
   ]
  },
  {
   "cell_type": "code",
   "execution_count": 15,
   "metadata": {},
   "outputs": [
    {
     "name": "stdout",
     "output_type": "stream",
     "text": [
      "{'Alice': 'Type 2 Diabetes', 'Bob': 'Hypertension', 'Clara': 'Asthma'}\n"
     ]
    }
   ],
   "source": [
    "# we can print the entire dictionary\n",
    "print(patient_diagnostics)"
   ]
  },
  {
   "cell_type": "code",
   "execution_count": 5,
   "metadata": {},
   "outputs": [
    {
     "data": {
      "text/plain": [
       "dict_keys(['Alice', 'Bob', 'Clara'])"
      ]
     },
     "execution_count": 5,
     "metadata": {},
     "output_type": "execute_result"
    }
   ],
   "source": [
    "# The keys\n",
    "patient_diagnostics.keys()"
   ]
  },
  {
   "cell_type": "code",
   "execution_count": 6,
   "metadata": {},
   "outputs": [
    {
     "data": {
      "text/plain": [
       "dict_values(['Type 2 Diabetes', 'Hypertension', 'Asthma'])"
      ]
     },
     "execution_count": 6,
     "metadata": {},
     "output_type": "execute_result"
    }
   ],
   "source": [
    "# And the values\n",
    "patient_diagnostics.values()"
   ]
  },
  {
   "cell_type": "markdown",
   "metadata": {},
   "source": [
    "We can easily check the diagnostic of a particular patient. Let's take Alice for example:"
   ]
  },
  {
   "cell_type": "code",
   "execution_count": 7,
   "metadata": {},
   "outputs": [
    {
     "data": {
      "text/plain": [
       "'Type 2 Diabetes'"
      ]
     },
     "execution_count": 7,
     "metadata": {},
     "output_type": "execute_result"
    }
   ],
   "source": [
    "patient_diagnostics['Alice']"
   ]
  },
  {
   "cell_type": "markdown",
   "metadata": {},
   "source": [
    "Now, the values don't have to be strings, they can be anything really, like *lists*!"
   ]
  },
  {
   "cell_type": "code",
   "execution_count": 8,
   "metadata": {},
   "outputs": [],
   "source": [
    "patient_symptoms = {\n",
    "    \"Alice\": [\"thirst\", \"frequent urination\", \"blurred vision\"],\n",
    "    \"Bob\": [\"headache\", \"dizziness\", \"nausea\"],\n",
    "    \"Clara\": [\"shortness of breath\", \"wheezing\"]\n",
    "}"
   ]
  },
  {
   "cell_type": "markdown",
   "metadata": {},
   "source": [
    "> What are the symptoms of Alice?"
   ]
  },
  {
   "cell_type": "code",
   "execution_count": 9,
   "metadata": {},
   "outputs": [
    {
     "data": {
      "text/plain": [
       "['thirst', 'frequent urination', 'blurred vision']"
      ]
     },
     "execution_count": 9,
     "metadata": {},
     "output_type": "execute_result"
    }
   ],
   "source": [
    "patient_symptoms['Alice']"
   ]
  },
  {
   "cell_type": "markdown",
   "metadata": {},
   "source": [
    "> Give me the patients that have \"shortness of breath\""
   ]
  },
  {
   "cell_type": "code",
   "execution_count": 10,
   "metadata": {},
   "outputs": [
    {
     "name": "stdout",
     "output_type": "stream",
     "text": [
      "Alice\n",
      "Bob\n",
      "Clara\n"
     ]
    }
   ],
   "source": [
    "# this iterates each patient\n",
    "for patient in patient_symptoms.keys():\n",
    "    print(patient)"
   ]
  },
  {
   "cell_type": "code",
   "execution_count": 11,
   "metadata": {},
   "outputs": [
    {
     "name": "stdout",
     "output_type": "stream",
     "text": [
      "['thirst', 'frequent urination', 'blurred vision']\n",
      "['headache', 'dizziness', 'nausea']\n",
      "['shortness of breath', 'wheezing']\n"
     ]
    }
   ],
   "source": [
    "# shows the symptoms for each patient\n",
    "for patient in patient_symptoms.keys():\n",
    "    print(patient_symptoms[patient])"
   ]
  },
  {
   "cell_type": "code",
   "execution_count": 13,
   "metadata": {},
   "outputs": [
    {
     "name": "stdout",
     "output_type": "stream",
     "text": [
      "False\n",
      "False\n",
      "True\n"
     ]
    }
   ],
   "source": [
    "# this searches for a particular string in a list\n",
    "symptom = \"shortness of breath\"\n",
    "for patient in patient_symptoms.keys():\n",
    "    print(symptom in patient_symptoms[patient])"
   ]
  },
  {
   "cell_type": "markdown",
   "metadata": {},
   "source": [
    "We want to know who are the patients that have this symptom so let's use an `if` statement!"
   ]
  },
  {
   "cell_type": "code",
   "execution_count": 14,
   "metadata": {},
   "outputs": [
    {
     "name": "stdout",
     "output_type": "stream",
     "text": [
      "Clara\n"
     ]
    }
   ],
   "source": [
    "# this searches for a particular string in a list\n",
    "symptom = \"shortness of breath\"\n",
    "for patient in patient_symptoms.keys():\n",
    "    if symptom in patient_symptoms[patient]:\n",
    "        print(patient)"
   ]
  },
  {
   "cell_type": "markdown",
   "metadata": {},
   "source": [
    "This becomes extremely useful once you have a database with tens of thousands of patients!"
   ]
  },
  {
   "cell_type": "markdown",
   "metadata": {},
   "source": [
    "---"
   ]
  },
  {
   "cell_type": "markdown",
   "metadata": {},
   "source": [
    "# What can we do with what we've learned so far?\n",
    "\n",
    "So far you've learned a lot of the atomic tools of python programming. You might be wondering, what can i actually do with this?..."
   ]
  },
  {
   "cell_type": "markdown",
   "metadata": {},
   "source": [
    "## BMI Calculator with Memory\n",
    "\n",
    "**Objective**: Our aim is to develop a Python program that calculates the Body Mass Index (BMI) of individuals, stores each individual's data, and allows users to retrieve specific data entries. All this is done with just: `strings`, `functions`, `loops`, `dictionaries`, `conditionals (if/else)`."
   ]
  }
 ],
 "metadata": {
  "kernelspec": {
   "display_name": "Python 3",
   "language": "python",
   "name": "python3"
  },
  "language_info": {
   "codemirror_mode": {
    "name": "ipython",
    "version": 3
   },
   "file_extension": ".py",
   "mimetype": "text/x-python",
   "name": "python",
   "nbconvert_exporter": "python",
   "pygments_lexer": "ipython3",
   "version": "3.12.3"
  },
  "latex_envs": {
   "LaTeX_envs_menu_present": true,
   "autoclose": false,
   "autocomplete": true,
   "bibliofile": "biblio.bib",
   "cite_by": "apalike",
   "current_citInitial": 1,
   "eqLabelWithNumbers": true,
   "eqNumInitial": 1,
   "hotkeys": {
    "equation": "Ctrl-E",
    "itemize": "Ctrl-I"
   },
   "labels_anchors": false,
   "latex_user_defs": false,
   "report_style_numbering": false,
   "user_envs_cfg": false
  }
 },
 "nbformat": 4,
 "nbformat_minor": 1
}
