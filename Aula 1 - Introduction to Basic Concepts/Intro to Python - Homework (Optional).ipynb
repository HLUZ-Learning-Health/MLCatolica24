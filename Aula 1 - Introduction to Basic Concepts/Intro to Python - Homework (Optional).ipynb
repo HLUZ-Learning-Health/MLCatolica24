{
 "cells": [
  {
   "cell_type": "markdown",
   "metadata": {},
   "source": [
    "# Exercises Notebook\n",
    "\n",
    "Now that you've learned some basics of python, let's put your knowledge into practice!"
   ]
  },
  {
   "cell_type": "markdown",
   "metadata": {},
   "source": [
    "## Exercise 1: Patient Age Group Classification\n",
    "**Objective**: Write a function `classify_age` that takes a patient age and returns a string with the age categorized as 'Child' (0-12), 'Teen' (13-19), 'Adult' (20-64), or 'Senior' (65+). This function helps in understanding patient demographics.\n"
   ]
  },
  {
   "cell_type": "code",
   "execution_count": null,
   "metadata": {},
   "outputs": [],
   "source": [
    "def classify_age(age):\n",
    "    # Implement your function here\n",
    "    return None # change this line to return your answer\n",
    "\n",
    "# Test cases\n",
    "assert classify_age(34) == 'Adult', \"Test case 1 failed\"\n",
    "assert classify_age(19) == 'Teen', \"Test case 2 failed\"\n",
    "assert classify_age(100) == 'Senior', \"Test case 3 failed\""
   ]
  },
  {
   "cell_type": "markdown",
   "metadata": {},
   "source": [
    "## Exercise 2: Symptom Frequency Counter\n",
    "\n",
    "**Objective**: Create a function `count_symptoms` that counts how many times each symptom appears in a list of symptoms. This is useful for identifying common symptoms in patient visits.\n"
   ]
  },
  {
   "cell_type": "code",
   "execution_count": null,
   "metadata": {},
   "outputs": [],
   "source": [
    "def count_symptoms(symptoms):\n",
    "    # Implement your function here\n",
    "    return None # change this line to return your answer\n",
    "\n",
    "# Example usage:\n",
    "symptoms_list = ['fever', 'cough', 'cough', 'fever', 'headache']\n",
    "print(count_symptoms(symptoms_list))\n",
    "\n",
    "# Test cases\n",
    "assert count_symptoms(['fever', 'cough', 'cough', 'fever', 'headache']) == {'fever': 2, 'cough': 2, 'headache': 1}, \"Test case 1 failed\"\n",
    "assert count_symptoms(['fever', 'fever', 'fever']) == {'fever': 3}, \"Test case 2 failed\"\n",
    "assert count_symptoms(['nausea', 'headache', 'nausea', 'dizziness']) == {'nausea': 2, 'headache': 1, 'dizziness': 1}, \"Test case 3 failed\""
   ]
  },
  {
   "cell_type": "markdown",
   "metadata": {},
   "source": [
    "## Exercise 3: Patient Data Storage\n",
    "\n",
    "**Objective**: Write a function `store_patient_data` that takes patient information and stores it in a dictionary. This function should facilitate easy retrieval of patient data.\n"
   ]
  },
  {
   "cell_type": "code",
   "execution_count": null,
   "metadata": {},
   "outputs": [],
   "source": [
    "def store_patient_data(name, age, symptoms, patient_dict):\n",
    "    # Implement your function here\n",
    "    return None # change this line to return your answer\n",
    "\n",
    "# Example usage:\n",
    "patient_dict = {}\n",
    "store_patient_data('John Doe', 30, ['cough', 'fever'], patient_dict)\n",
    "print(patient_dict)\n",
    "\n",
    "# Test cases\n",
    "patient_dict = {}\n",
    "store_patient_data('John Doe', 30, ['cough', 'fever'], patient_dict)\n",
    "store_patient_data('Jane Doe', 25, ['headache'], patient_dict)\n",
    "assert patient_dict == {'John Doe': {'age': 30, 'symptoms': ['cough', 'fever']}, 'Jane Doe': {'age': 25, 'symptoms': ['headache']}}, \"Test case 1 failed\"\n",
    "assert 'John Doe' in patient_dict, \"Test case 2 failed\"\n",
    "assert patient_dict['Jane Doe']['symptoms'] == ['headache'], \"Test case 3 failed\""
   ]
  },
  {
   "cell_type": "markdown",
   "metadata": {},
   "source": [
    "![](https://i.imgflip.com/8u7p9n.jpg)"
   ]
  }
 ],
 "metadata": {
  "kernelspec": {
   "display_name": "MLCatolica24",
   "language": "python",
   "name": "python3"
  },
  "language_info": {
   "name": "python",
   "version": "3.1.-1"
  }
 },
 "nbformat": 4,
 "nbformat_minor": 2
}
