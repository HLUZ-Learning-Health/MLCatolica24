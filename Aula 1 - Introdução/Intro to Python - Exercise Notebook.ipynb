{
 "cells": [
  {
   "cell_type": "markdown",
   "metadata": {},
   "source": [
    "# Intro to Python"
   ]
  },
  {
   "cell_type": "markdown",
   "metadata": {},
   "source": [
    "## What can we do with what we've learned so far?\n",
    "\n",
    "So far you've learned a lot of the atomic tools of python programming. You might be wondering, what can i actually do with this?..."
   ]
  },
  {
   "cell_type": "markdown",
   "metadata": {},
   "source": [
    "## BMI Calculator with Memory\n",
    "\n",
    "**Objective**: Our aim is to develop a Python program that calculates the Body Mass Index (BMI) of individuals, stores each individual's data, and allows users to retrieve specific data entries. All this is done with just: `strings`, `functions`, `dictionaries`, `conditionals (if/else)`."
   ]
  },
  {
   "cell_type": "markdown",
   "metadata": {},
   "source": [
    "### Problem Breakdown and Challenges\n",
    "\n",
    "Uff, this since like a hard task to do out of nowehere. Let's try to breakdown this big problem into multiple small ones that we can tackle:\n",
    "\n",
    "- **BMI Calculation**: We need to be able to calculate the BMI given weight and height of a person. Let's make a function for that!"
   ]
  },
  {
   "cell_type": "code",
   "execution_count": 208,
   "metadata": {},
   "outputs": [],
   "source": [
    "def calculate_bmi(weight, height):\n",
    "    \"\"\"\n",
    "    This function calculates and returns the BMI.\n",
    "    BMI is calculated as weight in kilograms divided by the square of height in meters.\n",
    "    \"\"\"\n",
    "    #return ...\n",
    "    return "
   ]
  },
  {
   "cell_type": "markdown",
   "metadata": {},
   "source": [
    "- **Ask a user for their data**: We neeed to be able to ask the user for their name, weight and height, so that we can calculate their BMI. Let's write a function for that!"
   ]
  },
  {
   "cell_type": "code",
   "execution_count": 209,
   "metadata": {},
   "outputs": [],
   "source": [
    "def get_user_input():\n",
    "    \"\"\"\n",
    "    This function prompts the user to enter their name, weight, and height and returns these values.\n",
    "    It ensures that the input is converted to float for calculations.\n",
    "    \"\"\"\n",
    "    #name = \n",
    "    #weight = \n",
    "    #height = \n",
    "    return name, weight, height"
   ]
  },
  {
   "cell_type": "markdown",
   "metadata": {},
   "source": [
    "- **Store a User's name and BMI**: We need to be able to somehow store a User's name and their BMI."
   ]
  },
  {
   "cell_type": "code",
   "execution_count": 1,
   "metadata": {},
   "outputs": [],
   "source": [
    "# should we use a list or a dictionary\n",
    "#database ="
   ]
  },
  {
   "cell_type": "markdown",
   "metadata": {},
   "source": [
    "Everytime a users calculates their BMI, we want to store a list of this data ([**user_name**, **bmi**]) in our database"
   ]
  },
  {
   "cell_type": "code",
   "execution_count": 2,
   "metadata": {},
   "outputs": [],
   "source": [
    "def save_record(name, bmi, database):\n",
    "    \"\"\"\n",
    "    This function adds a new record to the database.\n",
    "    \"\"\"\n",
    "\n",
    "    "
   ]
  },
  {
   "cell_type": "markdown",
   "metadata": {},
   "source": [
    "- **Show all Users in our Database**: We want to be able to show all our users and their BMI's"
   ]
  },
  {
   "cell_type": "code",
   "execution_count": 212,
   "metadata": {},
   "outputs": [],
   "source": [
    "def show_records(database):\n",
    "    \"\"\"\n",
    "    This function prints all stored records.\n",
    "    Each registration is displayed with the name and the BMI.\n",
    "    \"\"\"\n",
    "    "
   ]
  },
  {
   "cell_type": "markdown",
   "metadata": {},
   "source": [
    "- **Searching for a Specific User's BMI**: We'd like to be able to search up a user's name and get their corresponding BMI"
   ]
  },
  {
   "cell_type": "code",
   "execution_count": 227,
   "metadata": {},
   "outputs": [],
   "source": [
    "def find_bmi_by_name(name, registrations):\n",
    "    \"\"\"\n",
    "    This function searches for a specific user's BMI by name.\n",
    "    It prints the BMI if the user is found, otherwise it prints that the user doesn't exist.\n",
    "    \"\"\"\n",
    "    #for registration in registrations:\n",
    "    #    if registration[0] == name:\n",
    "    #        return registration[1]\n",
    "    #return \"User \" + name + \"doesn't exist\""
   ]
  },
  {
   "cell_type": "markdown",
   "metadata": {},
   "source": [
    "Aaaand we are done!"
   ]
  },
  {
   "cell_type": "markdown",
   "metadata": {},
   "source": [
    "## Run the cell below to reset the database"
   ]
  },
  {
   "cell_type": "code",
   "execution_count": 6,
   "metadata": {},
   "outputs": [],
   "source": [
    "database = {}"
   ]
  },
  {
   "cell_type": "markdown",
   "metadata": {},
   "source": [
    "## Run the cell below to register a new User"
   ]
  },
  {
   "cell_type": "code",
   "execution_count": 228,
   "metadata": {},
   "outputs": [],
   "source": [
    "name, weight, height = get_user_input()\n",
    "bmi = calculate_bmi(weight, height)\n",
    "save_records(name, bmi, database)"
   ]
  },
  {
   "cell_type": "markdown",
   "metadata": {},
   "source": [
    "## Run the cell below to show all records we have"
   ]
  },
  {
   "cell_type": "code",
   "execution_count": 229,
   "metadata": {},
   "outputs": [
    {
     "name": "stdout",
     "output_type": "stream",
     "text": [
      "sima: BMI = 20.37\n",
      "mafalda: BMI = 12.05\n"
     ]
    }
   ],
   "source": [
    "show_records(database)"
   ]
  },
  {
   "cell_type": "markdown",
   "metadata": {},
   "source": [
    "## Run the cell below to find the BMI of a specific user"
   ]
  },
  {
   "cell_type": "code",
   "execution_count": 230,
   "metadata": {},
   "outputs": [
    {
     "data": {
      "text/plain": [
       "12.046485260770977"
      ]
     },
     "execution_count": 230,
     "metadata": {},
     "output_type": "execute_result"
    }
   ],
   "source": [
    "name = input('Name:')\n",
    "find_bmi_by_name(name, database)"
   ]
  }
 ],
 "metadata": {
  "kernelspec": {
   "display_name": "Python 3",
   "language": "python",
   "name": "python3"
  },
  "language_info": {
   "codemirror_mode": {
    "name": "ipython",
    "version": 3
   },
   "file_extension": ".py",
   "mimetype": "text/x-python",
   "name": "python",
   "nbconvert_exporter": "python",
   "pygments_lexer": "ipython3",
   "version": "3.12.3"
  },
  "latex_envs": {
   "LaTeX_envs_menu_present": true,
   "autoclose": false,
   "autocomplete": true,
   "bibliofile": "biblio.bib",
   "cite_by": "apalike",
   "current_citInitial": 1,
   "eqLabelWithNumbers": true,
   "eqNumInitial": 1,
   "hotkeys": {
    "equation": "Ctrl-E",
    "itemize": "Ctrl-I"
   },
   "labels_anchors": false,
   "latex_user_defs": false,
   "report_style_numbering": false,
   "user_envs_cfg": false
  }
 },
 "nbformat": 4,
 "nbformat_minor": 1
}
