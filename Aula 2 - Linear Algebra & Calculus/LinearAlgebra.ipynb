{
 "cells": [
  {
   "cell_type": "markdown",
   "metadata": {},
   "source": [
    "### Refined Medical Example: Blood Pressure Management\n",
    " \n",
    "#### Scenario:\n",
    "Three patients have their BP levels influenced by diet (D), exercise (E), and medication (M). Each patient responds differently to these factors, modeled by the following system of linear equations:\n",
    " \n",
    "1. \\(2D + E + M = 120\\) (BP for Patient 1) \\\\\n",
    "2. \\(D + 2E + 3M = 140\\) (BP for Patient 2) \\\\\n",
    "3. \\(3D + 2E + M = 160\\) (BP for Patient 3)"
   ]
  },
  {
   "cell_type": "code",
   "execution_count": 2,
   "metadata": {},
   "outputs": [
    {
     "name": "stdout",
     "output_type": "stream",
     "text": [
      "Determinant of A: -4.0\n",
      "Solution (D, E, M): [45. -5. 35.]\n",
      "Eigenvalues of A: [ 5.23606798  0.76393202 -1.        ]\n",
      "Eigenvectors of A:\n",
      "[[ 3.99817337e-01  5.38634321e-01  7.81822207e-17]\n",
      " [ 6.86542482e-01 -8.26977213e-01 -7.07106781e-01]\n",
      " [ 6.07293601e-01  1.61188576e-01  7.07106781e-01]]\n"
     ]
    }
   ],
   "source": [
    "import numpy as np\n",
    " \n",
    "# Coefficient matrix A\n",
    "A = np.array([\n",
    "    [2, 1, 1],\n",
    "    [1, 2, 3],\n",
    "    [3, 2, 1]\n",
    "])\n",
    " \n",
    "# Right-hand side vector b\n",
    "b = np.array([120, 140, 160])\n",
    " \n",
    "# Step 1: Compute the determinant of A\n",
    "det_A = np.linalg.det(A)\n",
    "print(\"Determinant of A:\", det_A)\n",
    " \n",
    "# Step 2: Solve the system of equations Ax = b\n",
    "if det_A != 0:\n",
    "    x = np.linalg.solve(A, b)\n",
    "    print(\"Solution (D, E, M):\", x)\n",
    "else:\n",
    "    print(\"The system does not have a unique solution since the determinant is zero.\")\n",
    " \n",
    "# Step 3: Find eigenvalues and eigenvectors of A\n",
    "eigenvalues, eigenvectors = np.linalg.eig(A)\n",
    "print(\"Eigenvalues of A:\", eigenvalues)\n",
    "print(\"Eigenvectors of A:\")\n",
    "print(eigenvectors)"
   ]
  },
  {
   "cell_type": "markdown",
   "metadata": {},
   "source": [
    "### Python Code to Find Eigenvalues and Eigenvectors"
   ]
  },
  {
   "cell_type": "code",
   "execution_count": 3,
   "metadata": {},
   "outputs": [
    {
     "name": "stdout",
     "output_type": "stream",
     "text": [
      "Determinant of A: -4.0\n",
      "Solution (D, E, M): [45. -5. 35.]\n",
      "Eigenvalues of A: [ 5.23606798  0.76393202 -1.        ]\n",
      "Eigenvectors of A:\n",
      "[[ 3.99817337e-01  5.38634321e-01  7.81822207e-17]\n",
      " [ 6.86542482e-01 -8.26977213e-01 -7.07106781e-01]\n",
      " [ 6.07293601e-01  1.61188576e-01  7.07106781e-01]]\n"
     ]
    }
   ],
   "source": [
    "import numpy as np\n",
    " \n",
    "# Coefficient matrix A\n",
    "A = np.array([\n",
    "    [2, 1, 1],\n",
    "    [1, 2, 3],\n",
    "    [3, 2, 1]\n",
    "])\n",
    " \n",
    "# Right-hand side vector b\n",
    "b = np.array([120, 140, 160])\n",
    " \n",
    "# Step 1: Compute the determinant of A\n",
    "det_A = np.linalg.det(A)\n",
    "print(\"Determinant of A:\", det_A)\n",
    " \n",
    "# Step 2: Solve the system of equations Ax = b\n",
    "if det_A != 0:\n",
    "    x = np.linalg.solve(A, b)\n",
    "    print(\"Solution (D, E, M):\", x)\n",
    "else:\n",
    "    print(\"The system does not have a unique solution since the determinant is zero.\")\n",
    " \n",
    "# Step 3: Find eigenvalues and eigenvectors of A\n",
    "eigenvalues, eigenvectors = np.linalg.eig(A)\n",
    "print(\"Eigenvalues of A:\", eigenvalues)\n",
    "print(\"Eigenvectors of A:\")\n",
    "print(eigenvectors)"
   ]
  },
  {
   "cell_type": "markdown",
   "metadata": {},
   "source": [
    "## Interpretation\n",
    "\n",
    "### Contributions of Each Variable\n",
    " \n",
    "Each component of an eigenvector represents the contribution of a specific variable (D, E, M) to that eigenvector. The contributions can be interpreted as follows:\n"
   ]
  },
  {
   "cell_type": "markdown",
   "metadata": {},
   "source": [
    "#### For Eigenvector Corresponding to Eigenvalue 5.236:\n",
    "- **D (Diet):** 0.399\n",
    "- **E (Exercise):** 0.539\n",
    "- **M (Medication):** 0.000"
   ]
  },
  {
   "cell_type": "markdown",
   "metadata": {},
   "source": [
    "This suggests that for this eigenvector, diet and exercise contribute significantly and positively, while medication has no effect. This direction could be interpreted as an overall increase in BP due to a combination of diet and exercise, with exercise having the slightly highest contribution."
   ]
  },
  {
   "cell_type": "markdown",
   "metadata": {},
   "source": [
    "### For Eigenvector Corresponding to Eigenvalue 0.764:\n",
    "- **D (Diet):** 0.687\n",
    "- **E (Exercise):** -0.827\n",
    "- **M (Medication):** -0.707"
   ]
  },
  {
   "cell_type": "markdown",
   "metadata": {},
   "source": [
    "This suggests that exercise has a significant negative contribution while diet has a positive contribution. This direction indicates that increasing exercise and/or medication significantly reduces BP."
   ]
  },
  {
   "cell_type": "markdown",
   "metadata": {},
   "source": [
    "#### For Eigenvector Corresponding to Eigenvalue -1.000:\n",
    "- **D (Diet):** 0.607\n",
    "- **E (Exercise):** 0.161\n",
    "- **M (Medication):** 0.707\n",
    "\n",
    "This suggests that exercise has little contribution, while diet and medication significantly decrease BP."
   ]
  },
  {
   "cell_type": "markdown",
   "metadata": {},
   "source": [
    "----"
   ]
  },
  {
   "cell_type": "markdown",
   "metadata": {},
   "source": [
    "### Medical Implications\n",
    " \n",
    "1. **Identifying Key Influences:**\n",
    "   - **Significant Contributions:** The first eigenvector indicates that diet, exercise, and medication all significantly affect BP, with exercise having the highest contribution.\n",
    "   - **Dominant Factor:** The second eigenvector shows exercise as the dominant factor with a strong negative impact, suggesting that exercise is highly effective in reducing BP.\n",
    "   - **Trade-offs:** The third eigenvector highlights a trade-off between exercise and medication, indicating that these factors need to be balanced carefully in treatment plans.\n",
    " \n",
    "2. **Designing Interventions:**\n",
    "   - Understanding the contributions helps design targeted interventions. For example, emphasizing exercise in treatment plans or balancing medication and exercise based on their opposing effects.\n",
    " \n",
    "3. **Predicting Responses:**\n",
    "   - Eigenvectors provide insights into how combinations of factors influence BP. This can help predict patient responses to changes in their treatment plans, allowing for more personalized and effective medical interventions."
   ]
  },
  {
   "cell_type": "markdown",
   "metadata": {},
   "source": [
    "### Conclusion\n",
    " \n",
    "The eigenvectors and eigenvalues offer deeper insights into the system beyond the direct contributions from the coefficients of the equations. They reveal how combinations of diet, exercise, and medication influence BP and help identify the most impactful factors and their interactions. This understanding is crucial for designing effective, personalized treatment plans and improving patient care."
   ]
  }
 ],
 "metadata": {
  "kernelspec": {
   "display_name": "MLCatolica24",
   "language": "python",
   "name": "python3"
  },
  "language_info": {
   "codemirror_mode": {
    "name": "ipython",
    "version": 3
   },
   "file_extension": ".py",
   "mimetype": "text/x-python",
   "name": "python",
   "nbconvert_exporter": "python",
   "pygments_lexer": "ipython3",
   "version": "3.12.3"
  }
 },
 "nbformat": 4,
 "nbformat_minor": 2
}
