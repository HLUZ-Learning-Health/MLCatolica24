{
 "cells": [
  {
   "cell_type": "markdown",
   "id": "1bb61b71",
   "metadata": {},
   "source": [
    "# Pandas DataFrames 101 - Learning Notebook"
   ]
  },
  {
   "cell_type": "markdown",
   "id": "2ff6e4c9",
   "metadata": {},
   "source": [
    "----"
   ]
  },
  {
   "cell_type": "markdown",
   "id": "00a225dd",
   "metadata": {},
   "source": [
    "<img src=\"https://miro.medium.com/v2/resize:fit:1400/1*Q55X1gfHjKi1knx96UVdZQ.png\" alt=\"Description\" width=\"450\">"
   ]
  },
  {
   "cell_type": "markdown",
   "id": "5abddba6",
   "metadata": {},
   "source": [
    "# What you will learn in this notebook\n",
    "\n",
    "In this notebook we will cover the following:\n",
    "\n",
    "1. Dataframes \n",
    "    1. Reading data into a dataframe\n",
    "    2. Common methods for a quick overview\n",
    "    3. Getting the index and column values\n",
    "2. Previewing and describing a DataFrame\n",
    "    1. Previewing the DataFrame or part of it\n",
    "    2. Retrieving DataFrame information\n",
    "3. Reading data from files into pandas dataframes\n",
    "4. Writing data from pandas into files"
   ]
  },
  {
   "cell_type": "markdown",
   "id": "9c64bc28",
   "metadata": {},
   "source": [
    "# Imports"
   ]
  },
  {
   "cell_type": "code",
   "execution_count": 2,
   "id": "c06d33c6",
   "metadata": {},
   "outputs": [],
   "source": [
    "from IPython.core.interactiveshell import InteractiveShell\n",
    "InteractiveShell.ast_node_interactivity = \"all\""
   ]
  },
  {
   "cell_type": "code",
   "execution_count": 3,
   "id": "f14e7c8c",
   "metadata": {},
   "outputs": [],
   "source": [
    "import pandas as pd\n",
    "import os"
   ]
  },
  {
   "cell_type": "markdown",
   "id": "70f32853",
   "metadata": {},
   "source": [
    "# What is a DataFrame\n",
    "\n",
    "A 2D, potentially heterogenous, tabular structure. The documentation on DataFrame is available on the `pandas.DataFrame` [documentation page](https://pandas.pydata.org/pandas-docs/stable/reference/api/pandas.DataFrame.html) \n",
    "\n",
    "Let's start by reading some dataset on heart disease ([source](https://archive.ics.uci.edu/dataset/45/heart+disease)). "
   ]
  },
  {
   "cell_type": "code",
   "execution_count": 4,
   "id": "79669ce6",
   "metadata": {},
   "outputs": [],
   "source": [
    "df = pd.read_csv('data/heart_disease_cleaned.csv')\n",
    "df = df.set_index('id')"
   ]
  },
  {
   "cell_type": "markdown",
   "id": "e9c1787b",
   "metadata": {},
   "source": [
    "Let's take a sneak peak at this data:"
   ]
  },
  {
   "cell_type": "code",
   "execution_count": 5,
   "id": "68d9f946",
   "metadata": {},
   "outputs": [
    {
     "data": {
      "text/html": [
       "<div>\n",
       "<style scoped>\n",
       "    .dataframe tbody tr th:only-of-type {\n",
       "        vertical-align: middle;\n",
       "    }\n",
       "\n",
       "    .dataframe tbody tr th {\n",
       "        vertical-align: top;\n",
       "    }\n",
       "\n",
       "    .dataframe thead th {\n",
       "        text-align: right;\n",
       "    }\n",
       "</style>\n",
       "<table border=\"1\" class=\"dataframe\">\n",
       "  <thead>\n",
       "    <tr style=\"text-align: right;\">\n",
       "      <th></th>\n",
       "      <th>age</th>\n",
       "      <th>sex</th>\n",
       "      <th>cp</th>\n",
       "      <th>trestbps</th>\n",
       "      <th>chol</th>\n",
       "      <th>fbs</th>\n",
       "      <th>restecg</th>\n",
       "      <th>thalach</th>\n",
       "      <th>exang</th>\n",
       "      <th>oldpeak</th>\n",
       "      <th>slope</th>\n",
       "      <th>ca</th>\n",
       "      <th>thal</th>\n",
       "      <th>Diagnosed</th>\n",
       "    </tr>\n",
       "    <tr>\n",
       "      <th>id</th>\n",
       "      <th></th>\n",
       "      <th></th>\n",
       "      <th></th>\n",
       "      <th></th>\n",
       "      <th></th>\n",
       "      <th></th>\n",
       "      <th></th>\n",
       "      <th></th>\n",
       "      <th></th>\n",
       "      <th></th>\n",
       "      <th></th>\n",
       "      <th></th>\n",
       "      <th></th>\n",
       "      <th></th>\n",
       "    </tr>\n",
       "  </thead>\n",
       "  <tbody>\n",
       "    <tr>\n",
       "      <th>192</th>\n",
       "      <td>43</td>\n",
       "      <td>male</td>\n",
       "      <td>asymptomatic</td>\n",
       "      <td>132</td>\n",
       "      <td>247</td>\n",
       "      <td>1</td>\n",
       "      <td>left ventricular hypertrophy</td>\n",
       "      <td>143</td>\n",
       "      <td>1</td>\n",
       "      <td>0.1</td>\n",
       "      <td>fat</td>\n",
       "      <td>NaN</td>\n",
       "      <td>reversible defect</td>\n",
       "      <td>&gt;50%</td>\n",
       "    </tr>\n",
       "    <tr>\n",
       "      <th>189</th>\n",
       "      <td>69</td>\n",
       "      <td>male</td>\n",
       "      <td>non-anginal pain</td>\n",
       "      <td>140</td>\n",
       "      <td>254</td>\n",
       "      <td>0</td>\n",
       "      <td>left ventricular hypertrophy</td>\n",
       "      <td>146</td>\n",
       "      <td>0</td>\n",
       "      <td>2.0</td>\n",
       "      <td>fat</td>\n",
       "      <td>3.0</td>\n",
       "      <td>reversible defect</td>\n",
       "      <td>&gt;50%</td>\n",
       "    </tr>\n",
       "    <tr>\n",
       "      <th>0</th>\n",
       "      <td>63</td>\n",
       "      <td>male</td>\n",
       "      <td>typical angina</td>\n",
       "      <td>145</td>\n",
       "      <td>233</td>\n",
       "      <td>1</td>\n",
       "      <td>left ventricular hypertrophy</td>\n",
       "      <td>150</td>\n",
       "      <td>0</td>\n",
       "      <td>2.3</td>\n",
       "      <td>downsloping</td>\n",
       "      <td>0.0</td>\n",
       "      <td>fixed defect</td>\n",
       "      <td>&lt;50%</td>\n",
       "    </tr>\n",
       "  </tbody>\n",
       "</table>\n",
       "</div>"
      ],
      "text/plain": [
       "     age   sex                cp  trestbps  chol  fbs  \\\n",
       "id                                                      \n",
       "192   43  male      asymptomatic       132   247    1   \n",
       "189   69  male  non-anginal pain       140   254    0   \n",
       "0     63  male    typical angina       145   233    1   \n",
       "\n",
       "                          restecg  thalach  exang  oldpeak        slope   ca  \\\n",
       "id                                                                             \n",
       "192  left ventricular hypertrophy      143      1      0.1          fat  NaN   \n",
       "189  left ventricular hypertrophy      146      0      2.0          fat  3.0   \n",
       "0    left ventricular hypertrophy      150      0      2.3  downsloping  0.0   \n",
       "\n",
       "                  thal Diagnosed  \n",
       "id                                \n",
       "192  reversible defect      >50%  \n",
       "189  reversible defect      >50%  \n",
       "0         fixed defect      <50%  "
      ]
     },
     "execution_count": 5,
     "metadata": {},
     "output_type": "execute_result"
    },
    {
     "data": {
      "text/plain": [
       "(303, 14)"
      ]
     },
     "execution_count": 5,
     "metadata": {},
     "output_type": "execute_result"
    }
   ],
   "source": [
    "df.head(3)\n",
    "#df.tail(3)\n",
    "df.shape"
   ]
  },
  {
   "cell_type": "markdown",
   "id": "f582b15d",
   "metadata": {},
   "source": [
    "Here's what we know about this dataset:\n",
    "\n",
    "- contains 303 rows (observations)\n",
    "- 14 columns\n",
    "\n",
    "And some documentation we found about each column:\n",
    "\n",
    "1. **Age:** age in years\n",
    "2. **Sex:** sex (1 = male; 0 = female)\n",
    "3. **Cp:** chest pain type\n",
    "   - Value 1: typical angina\n",
    "   - Value 2: atypical angina\n",
    "   - Value 3: non-anginal pain\n",
    "   - Value 4: asymptomatic\n",
    "4. **Trestbps:** resting blood pressure (in mm Hg on admission to the hospital)\n",
    "5. **Chol:** serum cholesterol in mg/dl\n",
    "6. **Fbs:** fasting blood sugar > 120 mg/dl (1 = true; 0 = false)\n",
    "7. **Restecg:** resting electrocardiographic results\n",
    "   - Value 0: normal\n",
    "   - Value 1: having ST-T wave abnormality (T wave inversions and/or ST elevation or depression of > 0.05 mV)\n",
    "   - Value 2: showing probable or definite left ventricular hypertrophy by Estes' criteria\n",
    "8. **Thalach:** maximum heart rate achieved\n",
    "9. **Exang:** exercise induced angina (1 = yes; 0 = no)\n",
    "10. **Oldpeak:** ST depression induced by exercise relative to rest\n",
    "11. **Slope:** the slope of the peak exercise ST segment\n",
    "    - Value 1: upsloping\n",
    "    - Value 2: flat\n",
    "    - Value 3: downsloping\n",
    "12. **Ca:** number of major vessels (0-3) colored by flourosopy\n",
    "13. **Thal:** \n",
    "    - 3 = normal\n",
    "    - 6 = fixed defect\n",
    "    - 7 = reversible defect\n",
    "14. **Diagnosed:** diagnosis of heart disease (angiographic disease status)\n",
    "    - Value 0: < 50% diameter narrowing\n",
    "    - Value 1: > 50% diameter narrowing\n"
   ]
  },
  {
   "cell_type": "markdown",
   "id": "5ef7f54f",
   "metadata": {},
   "source": [
    "# Selecting columns and index"
   ]
  },
  {
   "cell_type": "code",
   "execution_count": 6,
   "id": "5af643aa",
   "metadata": {},
   "outputs": [
    {
     "data": {
      "text/plain": [
       "id\n",
       "192    43\n",
       "189    69\n",
       "0      63\n",
       "23     58\n",
       "284    61\n",
       "       ..\n",
       "9      53\n",
       "109    39\n",
       "185    63\n",
       "111    56\n",
       "36     43\n",
       "Name: age, Length: 303, dtype: int64"
      ]
     },
     "execution_count": 6,
     "metadata": {},
     "output_type": "execute_result"
    }
   ],
   "source": [
    "df['age'] # selects a column and return a pandas series"
   ]
  },
  {
   "cell_type": "code",
   "execution_count": 7,
   "id": "e0976b34",
   "metadata": {},
   "outputs": [
    {
     "data": {
      "text/plain": [
       "id\n",
       "192    43\n",
       "189    69\n",
       "0      63\n",
       "23     58\n",
       "284    61\n",
       "       ..\n",
       "9      53\n",
       "109    39\n",
       "185    63\n",
       "111    56\n",
       "36     43\n",
       "Name: age, Length: 303, dtype: int64"
      ]
     },
     "execution_count": 7,
     "metadata": {},
     "output_type": "execute_result"
    }
   ],
   "source": [
    "df.loc[:,'age'] # does the same thing. \"select all rows, and only the column <age>\""
   ]
  },
  {
   "cell_type": "markdown",
   "id": "d47ba47d",
   "metadata": {},
   "source": [
    "We can access the index like so:"
   ]
  },
  {
   "cell_type": "code",
   "execution_count": 8,
   "id": "bef8a01d",
   "metadata": {},
   "outputs": [
    {
     "data": {
      "text/plain": [
       "Index([192, 189,   0,  23, 284, 177,  89, 290, 127,  56,\n",
       "       ...\n",
       "       163, 169, 186, 244, 139,   9, 109, 185, 111,  36],\n",
       "      dtype='int64', name='id', length=303)"
      ]
     },
     "execution_count": 8,
     "metadata": {},
     "output_type": "execute_result"
    }
   ],
   "source": [
    "df.index"
   ]
  },
  {
   "cell_type": "markdown",
   "id": "e2f8f786",
   "metadata": {},
   "source": [
    "And this works like a list, so let's see who is the patient in the 41st line"
   ]
  },
  {
   "cell_type": "code",
   "execution_count": 9,
   "id": "d480afab",
   "metadata": {},
   "outputs": [
    {
     "data": {
      "text/plain": [
       "235"
      ]
     },
     "execution_count": 9,
     "metadata": {},
     "output_type": "execute_result"
    }
   ],
   "source": [
    "df.index[40]"
   ]
  },
  {
   "cell_type": "markdown",
   "id": "016e8fde",
   "metadata": {},
   "source": [
    "> Give me the `age` of the patient whose `id is 235`"
   ]
  },
  {
   "cell_type": "code",
   "execution_count": 10,
   "id": "c50448d3",
   "metadata": {},
   "outputs": [
    {
     "data": {
      "text/plain": [
       "54"
      ]
     },
     "execution_count": 10,
     "metadata": {},
     "output_type": "execute_result"
    }
   ],
   "source": [
    "df.loc[235,'age']"
   ]
  },
  {
   "cell_type": "markdown",
   "id": "db052bb7",
   "metadata": {},
   "source": [
    "> Give me the `slope` and `cp` of patient `177`"
   ]
  },
  {
   "cell_type": "code",
   "execution_count": 11,
   "id": "747634f0",
   "metadata": {},
   "outputs": [
    {
     "data": {
      "text/plain": [
       "slope             fat\n",
       "cp       asymptomatic\n",
       "Name: 177, dtype: object"
      ]
     },
     "execution_count": 11,
     "metadata": {},
     "output_type": "execute_result"
    }
   ],
   "source": [
    "df.loc[177,['slope','cp']]"
   ]
  },
  {
   "cell_type": "markdown",
   "id": "5cd0f47c",
   "metadata": {},
   "source": [
    "> Give me the `sex` and `thal` of patients `23,199, and 102`"
   ]
  },
  {
   "cell_type": "code",
   "execution_count": 12,
   "id": "89f7021a",
   "metadata": {},
   "outputs": [
    {
     "data": {
      "text/html": [
       "<div>\n",
       "<style scoped>\n",
       "    .dataframe tbody tr th:only-of-type {\n",
       "        vertical-align: middle;\n",
       "    }\n",
       "\n",
       "    .dataframe tbody tr th {\n",
       "        vertical-align: top;\n",
       "    }\n",
       "\n",
       "    .dataframe thead th {\n",
       "        text-align: right;\n",
       "    }\n",
       "</style>\n",
       "<table border=\"1\" class=\"dataframe\">\n",
       "  <thead>\n",
       "    <tr style=\"text-align: right;\">\n",
       "      <th></th>\n",
       "      <th>sex</th>\n",
       "      <th>thal</th>\n",
       "    </tr>\n",
       "    <tr>\n",
       "      <th>id</th>\n",
       "      <th></th>\n",
       "      <th></th>\n",
       "    </tr>\n",
       "  </thead>\n",
       "  <tbody>\n",
       "    <tr>\n",
       "      <th>23</th>\n",
       "      <td>male</td>\n",
       "      <td>reversible defect</td>\n",
       "    </tr>\n",
       "    <tr>\n",
       "      <th>199</th>\n",
       "      <td>male</td>\n",
       "      <td>normal</td>\n",
       "    </tr>\n",
       "    <tr>\n",
       "      <th>102</th>\n",
       "      <td>female</td>\n",
       "      <td>normal</td>\n",
       "    </tr>\n",
       "  </tbody>\n",
       "</table>\n",
       "</div>"
      ],
      "text/plain": [
       "        sex               thal\n",
       "id                            \n",
       "23     male  reversible defect\n",
       "199    male             normal\n",
       "102  female             normal"
      ]
     },
     "execution_count": 12,
     "metadata": {},
     "output_type": "execute_result"
    }
   ],
   "source": [
    "df.loc[[23,199,102],['sex','thal']]"
   ]
  },
  {
   "cell_type": "markdown",
   "id": "f3666bc8",
   "metadata": {},
   "source": [
    "# Descriptive Statistics"
   ]
  },
  {
   "cell_type": "markdown",
   "id": "51b01af7",
   "metadata": {},
   "source": [
    "What type of data do we have?"
   ]
  },
  {
   "cell_type": "code",
   "execution_count": 13,
   "id": "af2eb20e",
   "metadata": {},
   "outputs": [
    {
     "data": {
      "text/plain": [
       "age            int64\n",
       "sex           object\n",
       "cp            object\n",
       "trestbps       int64\n",
       "chol           int64\n",
       "fbs            int64\n",
       "restecg       object\n",
       "thalach        int64\n",
       "exang          int64\n",
       "oldpeak      float64\n",
       "slope         object\n",
       "ca           float64\n",
       "thal          object\n",
       "Diagnosed     object\n",
       "dtype: object"
      ]
     },
     "execution_count": 13,
     "metadata": {},
     "output_type": "execute_result"
    }
   ],
   "source": [
    "df.dtypes"
   ]
  },
  {
   "cell_type": "markdown",
   "id": "d229385f",
   "metadata": {},
   "source": [
    "## Analyzing numerical data"
   ]
  },
  {
   "cell_type": "code",
   "execution_count": 14,
   "id": "56066971",
   "metadata": {},
   "outputs": [
    {
     "data": {
      "text/plain": [
       "id\n",
       "192    43\n",
       "189    69\n",
       "0      63\n",
       "Name: age, dtype: int64"
      ]
     },
     "execution_count": 14,
     "metadata": {},
     "output_type": "execute_result"
    }
   ],
   "source": [
    "df['age'].head(3)"
   ]
  },
  {
   "cell_type": "code",
   "execution_count": 15,
   "id": "402c3301",
   "metadata": {},
   "outputs": [
    {
     "data": {
      "text/plain": [
       "54.43894389438944"
      ]
     },
     "execution_count": 15,
     "metadata": {},
     "output_type": "execute_result"
    }
   ],
   "source": [
    "df['age'].mean()"
   ]
  },
  {
   "cell_type": "code",
   "execution_count": 16,
   "id": "55790e99",
   "metadata": {},
   "outputs": [
    {
     "data": {
      "text/plain": [
       "56.0"
      ]
     },
     "execution_count": 16,
     "metadata": {},
     "output_type": "execute_result"
    }
   ],
   "source": [
    "df['age'].median()"
   ]
  },
  {
   "cell_type": "code",
   "execution_count": 17,
   "id": "e75af415",
   "metadata": {},
   "outputs": [
    {
     "data": {
      "text/plain": [
       "77"
      ]
     },
     "execution_count": 17,
     "metadata": {},
     "output_type": "execute_result"
    }
   ],
   "source": [
    "df['age'].max()"
   ]
  },
  {
   "cell_type": "code",
   "execution_count": 18,
   "id": "88551ce3",
   "metadata": {},
   "outputs": [
    {
     "data": {
      "text/plain": [
       "29"
      ]
     },
     "execution_count": 18,
     "metadata": {},
     "output_type": "execute_result"
    }
   ],
   "source": [
    "df['age'].min()"
   ]
  },
  {
   "cell_type": "markdown",
   "id": "f70d2b90",
   "metadata": {},
   "source": [
    "[Here are all descriptive statistics you can easily compute from a Pandas series](https://pandas.pydata.org/pandas-docs/version/0.20.2/api.html#api-dataframe-stats)"
   ]
  },
  {
   "cell_type": "markdown",
   "id": "81dc2859",
   "metadata": {},
   "source": [
    "You can also use `.describe()` to get the most common stats of a numerical column"
   ]
  },
  {
   "cell_type": "code",
   "execution_count": 19,
   "id": "654fcb25",
   "metadata": {},
   "outputs": [
    {
     "data": {
      "text/plain": [
       "count    303.000000\n",
       "mean      54.438944\n",
       "std        9.038662\n",
       "min       29.000000\n",
       "25%       48.000000\n",
       "50%       56.000000\n",
       "75%       61.000000\n",
       "max       77.000000\n",
       "Name: age, dtype: float64"
      ]
     },
     "execution_count": 19,
     "metadata": {},
     "output_type": "execute_result"
    }
   ],
   "source": [
    "df['age'].describe()"
   ]
  },
  {
   "cell_type": "markdown",
   "id": "c5de19dc",
   "metadata": {},
   "source": [
    "in case you want a better display, you can convert a pandas series to dataframe with `.to_frame()`"
   ]
  },
  {
   "cell_type": "code",
   "execution_count": 20,
   "id": "9aec1090",
   "metadata": {},
   "outputs": [
    {
     "data": {
      "text/html": [
       "<div>\n",
       "<style scoped>\n",
       "    .dataframe tbody tr th:only-of-type {\n",
       "        vertical-align: middle;\n",
       "    }\n",
       "\n",
       "    .dataframe tbody tr th {\n",
       "        vertical-align: top;\n",
       "    }\n",
       "\n",
       "    .dataframe thead th {\n",
       "        text-align: right;\n",
       "    }\n",
       "</style>\n",
       "<table border=\"1\" class=\"dataframe\">\n",
       "  <thead>\n",
       "    <tr style=\"text-align: right;\">\n",
       "      <th></th>\n",
       "      <th>age</th>\n",
       "    </tr>\n",
       "  </thead>\n",
       "  <tbody>\n",
       "    <tr>\n",
       "      <th>count</th>\n",
       "      <td>303.000000</td>\n",
       "    </tr>\n",
       "    <tr>\n",
       "      <th>mean</th>\n",
       "      <td>54.438944</td>\n",
       "    </tr>\n",
       "    <tr>\n",
       "      <th>std</th>\n",
       "      <td>9.038662</td>\n",
       "    </tr>\n",
       "    <tr>\n",
       "      <th>min</th>\n",
       "      <td>29.000000</td>\n",
       "    </tr>\n",
       "    <tr>\n",
       "      <th>25%</th>\n",
       "      <td>48.000000</td>\n",
       "    </tr>\n",
       "    <tr>\n",
       "      <th>50%</th>\n",
       "      <td>56.000000</td>\n",
       "    </tr>\n",
       "    <tr>\n",
       "      <th>75%</th>\n",
       "      <td>61.000000</td>\n",
       "    </tr>\n",
       "    <tr>\n",
       "      <th>max</th>\n",
       "      <td>77.000000</td>\n",
       "    </tr>\n",
       "  </tbody>\n",
       "</table>\n",
       "</div>"
      ],
      "text/plain": [
       "              age\n",
       "count  303.000000\n",
       "mean    54.438944\n",
       "std      9.038662\n",
       "min     29.000000\n",
       "25%     48.000000\n",
       "50%     56.000000\n",
       "75%     61.000000\n",
       "max     77.000000"
      ]
     },
     "execution_count": 20,
     "metadata": {},
     "output_type": "execute_result"
    }
   ],
   "source": [
    "# in case you want a better display, you can convert a pandas series to dataframe \n",
    "df['age'].describe().to_frame()"
   ]
  },
  {
   "cell_type": "markdown",
   "id": "b251215b",
   "metadata": {},
   "source": [
    "> Go to exercises notebook and solve exercises 1 through 4"
   ]
  },
  {
   "cell_type": "markdown",
   "id": "373f13ae",
   "metadata": {},
   "source": [
    "## Analyzing categorical data"
   ]
  },
  {
   "cell_type": "code",
   "execution_count": 21,
   "id": "92d1d780",
   "metadata": {},
   "outputs": [
    {
     "data": {
      "text/plain": [
       "age            int64\n",
       "sex           object\n",
       "cp            object\n",
       "trestbps       int64\n",
       "chol           int64\n",
       "fbs            int64\n",
       "restecg       object\n",
       "thalach        int64\n",
       "exang          int64\n",
       "oldpeak      float64\n",
       "slope         object\n",
       "ca           float64\n",
       "thal          object\n",
       "Diagnosed     object\n",
       "dtype: object"
      ]
     },
     "execution_count": 21,
     "metadata": {},
     "output_type": "execute_result"
    }
   ],
   "source": [
    "df.dtypes"
   ]
  },
  {
   "cell_type": "markdown",
   "id": "7de20e4a",
   "metadata": {},
   "source": [
    "> What is the distribution of `x`?"
   ]
  },
  {
   "cell_type": "code",
   "execution_count": 22,
   "id": "40be57ea",
   "metadata": {},
   "outputs": [
    {
     "data": {
      "text/plain": [
       "sex\n",
       "male      206\n",
       "female     97\n",
       "Name: count, dtype: int64"
      ]
     },
     "execution_count": 22,
     "metadata": {},
     "output_type": "execute_result"
    }
   ],
   "source": [
    "df['sex'].value_counts()"
   ]
  },
  {
   "cell_type": "code",
   "execution_count": 23,
   "id": "0fd2a196",
   "metadata": {},
   "outputs": [
    {
     "data": {
      "text/plain": [
       "sex\n",
       "male      0.679868\n",
       "female    0.320132\n",
       "Name: proportion, dtype: float64"
      ]
     },
     "execution_count": 23,
     "metadata": {},
     "output_type": "execute_result"
    }
   ],
   "source": [
    "df['sex'].value_counts(normalize=True)"
   ]
  },
  {
   "cell_type": "markdown",
   "id": "2bc5579c",
   "metadata": {},
   "source": [
    "Can we round these numbers? (let's see with chatgpt)"
   ]
  },
  {
   "cell_type": "markdown",
   "id": "7b274f04",
   "metadata": {},
   "source": [
    "----"
   ]
  },
  {
   "cell_type": "markdown",
   "id": "d84178cd",
   "metadata": {},
   "source": [
    "I would like to look at the distribution of all categorical columns"
   ]
  },
  {
   "cell_type": "code",
   "execution_count": 24,
   "id": "a5d029df",
   "metadata": {},
   "outputs": [
    {
     "data": {
      "text/html": [
       "<div>\n",
       "<style scoped>\n",
       "    .dataframe tbody tr th:only-of-type {\n",
       "        vertical-align: middle;\n",
       "    }\n",
       "\n",
       "    .dataframe tbody tr th {\n",
       "        vertical-align: top;\n",
       "    }\n",
       "\n",
       "    .dataframe thead th {\n",
       "        text-align: right;\n",
       "    }\n",
       "</style>\n",
       "<table border=\"1\" class=\"dataframe\">\n",
       "  <thead>\n",
       "    <tr style=\"text-align: right;\">\n",
       "      <th></th>\n",
       "      <th>sex</th>\n",
       "      <th>cp</th>\n",
       "      <th>restecg</th>\n",
       "      <th>slope</th>\n",
       "      <th>thal</th>\n",
       "      <th>Diagnosed</th>\n",
       "    </tr>\n",
       "    <tr>\n",
       "      <th>id</th>\n",
       "      <th></th>\n",
       "      <th></th>\n",
       "      <th></th>\n",
       "      <th></th>\n",
       "      <th></th>\n",
       "      <th></th>\n",
       "    </tr>\n",
       "  </thead>\n",
       "  <tbody>\n",
       "    <tr>\n",
       "      <th>192</th>\n",
       "      <td>male</td>\n",
       "      <td>asymptomatic</td>\n",
       "      <td>left ventricular hypertrophy</td>\n",
       "      <td>fat</td>\n",
       "      <td>reversible defect</td>\n",
       "      <td>&gt;50%</td>\n",
       "    </tr>\n",
       "    <tr>\n",
       "      <th>189</th>\n",
       "      <td>male</td>\n",
       "      <td>non-anginal pain</td>\n",
       "      <td>left ventricular hypertrophy</td>\n",
       "      <td>fat</td>\n",
       "      <td>reversible defect</td>\n",
       "      <td>&gt;50%</td>\n",
       "    </tr>\n",
       "    <tr>\n",
       "      <th>0</th>\n",
       "      <td>male</td>\n",
       "      <td>typical angina</td>\n",
       "      <td>left ventricular hypertrophy</td>\n",
       "      <td>downsloping</td>\n",
       "      <td>fixed defect</td>\n",
       "      <td>&lt;50%</td>\n",
       "    </tr>\n",
       "    <tr>\n",
       "      <th>23</th>\n",
       "      <td>male</td>\n",
       "      <td>non-anginal pain</td>\n",
       "      <td>left ventricular hypertrophy</td>\n",
       "      <td>upsloping</td>\n",
       "      <td>reversible defect</td>\n",
       "      <td>&gt;50%</td>\n",
       "    </tr>\n",
       "    <tr>\n",
       "      <th>284</th>\n",
       "      <td>male</td>\n",
       "      <td>asymptomatic</td>\n",
       "      <td>normal</td>\n",
       "      <td>upsloping</td>\n",
       "      <td>reversible defect</td>\n",
       "      <td>&gt;50%</td>\n",
       "    </tr>\n",
       "    <tr>\n",
       "      <th>...</th>\n",
       "      <td>...</td>\n",
       "      <td>...</td>\n",
       "      <td>...</td>\n",
       "      <td>...</td>\n",
       "      <td>...</td>\n",
       "      <td>...</td>\n",
       "    </tr>\n",
       "    <tr>\n",
       "      <th>9</th>\n",
       "      <td>male</td>\n",
       "      <td>asymptomatic</td>\n",
       "      <td>left ventricular hypertrophy</td>\n",
       "      <td>downsloping</td>\n",
       "      <td>reversible defect</td>\n",
       "      <td>&gt;50%</td>\n",
       "    </tr>\n",
       "    <tr>\n",
       "      <th>109</th>\n",
       "      <td>male</td>\n",
       "      <td>asymptomatic</td>\n",
       "      <td>normal</td>\n",
       "      <td>fat</td>\n",
       "      <td>reversible defect</td>\n",
       "      <td>&gt;50%</td>\n",
       "    </tr>\n",
       "    <tr>\n",
       "      <th>185</th>\n",
       "      <td>female</td>\n",
       "      <td>atypical angina</td>\n",
       "      <td>normal</td>\n",
       "      <td>upsloping</td>\n",
       "      <td>normal</td>\n",
       "      <td>&lt;50%</td>\n",
       "    </tr>\n",
       "    <tr>\n",
       "      <th>111</th>\n",
       "      <td>male</td>\n",
       "      <td>asymptomatic</td>\n",
       "      <td>left ventricular hypertrophy</td>\n",
       "      <td>fat</td>\n",
       "      <td>normal</td>\n",
       "      <td>&gt;50%</td>\n",
       "    </tr>\n",
       "    <tr>\n",
       "      <th>36</th>\n",
       "      <td>male</td>\n",
       "      <td>asymptomatic</td>\n",
       "      <td>left ventricular hypertrophy</td>\n",
       "      <td>fat</td>\n",
       "      <td>reversible defect</td>\n",
       "      <td>&gt;50%</td>\n",
       "    </tr>\n",
       "  </tbody>\n",
       "</table>\n",
       "<p>303 rows × 6 columns</p>\n",
       "</div>"
      ],
      "text/plain": [
       "        sex                cp                       restecg        slope  \\\n",
       "id                                                                         \n",
       "192    male      asymptomatic  left ventricular hypertrophy          fat   \n",
       "189    male  non-anginal pain  left ventricular hypertrophy          fat   \n",
       "0      male    typical angina  left ventricular hypertrophy  downsloping   \n",
       "23     male  non-anginal pain  left ventricular hypertrophy    upsloping   \n",
       "284    male      asymptomatic                        normal    upsloping   \n",
       "..      ...               ...                           ...          ...   \n",
       "9      male      asymptomatic  left ventricular hypertrophy  downsloping   \n",
       "109    male      asymptomatic                        normal          fat   \n",
       "185  female   atypical angina                        normal    upsloping   \n",
       "111    male      asymptomatic  left ventricular hypertrophy          fat   \n",
       "36     male      asymptomatic  left ventricular hypertrophy          fat   \n",
       "\n",
       "                  thal Diagnosed  \n",
       "id                                \n",
       "192  reversible defect      >50%  \n",
       "189  reversible defect      >50%  \n",
       "0         fixed defect      <50%  \n",
       "23   reversible defect      >50%  \n",
       "284  reversible defect      >50%  \n",
       "..                 ...       ...  \n",
       "9    reversible defect      >50%  \n",
       "109  reversible defect      >50%  \n",
       "185             normal      <50%  \n",
       "111             normal      >50%  \n",
       "36   reversible defect      >50%  \n",
       "\n",
       "[303 rows x 6 columns]"
      ]
     },
     "execution_count": 24,
     "metadata": {},
     "output_type": "execute_result"
    }
   ],
   "source": [
    "df.select_dtypes('object')"
   ]
  },
  {
   "cell_type": "code",
   "execution_count": 25,
   "id": "114a50bc",
   "metadata": {},
   "outputs": [],
   "source": [
    "cat_columns = df.select_dtypes('object').columns"
   ]
  },
  {
   "cell_type": "code",
   "execution_count": 26,
   "id": "59f7d609",
   "metadata": {},
   "outputs": [
    {
     "data": {
      "text/html": [
       "<div>\n",
       "<style scoped>\n",
       "    .dataframe tbody tr th:only-of-type {\n",
       "        vertical-align: middle;\n",
       "    }\n",
       "\n",
       "    .dataframe tbody tr th {\n",
       "        vertical-align: top;\n",
       "    }\n",
       "\n",
       "    .dataframe thead th {\n",
       "        text-align: right;\n",
       "    }\n",
       "</style>\n",
       "<table border=\"1\" class=\"dataframe\">\n",
       "  <thead>\n",
       "    <tr style=\"text-align: right;\">\n",
       "      <th></th>\n",
       "      <th>proportion</th>\n",
       "    </tr>\n",
       "    <tr>\n",
       "      <th>sex</th>\n",
       "      <th></th>\n",
       "    </tr>\n",
       "  </thead>\n",
       "  <tbody>\n",
       "    <tr>\n",
       "      <th>male</th>\n",
       "      <td>0.68</td>\n",
       "    </tr>\n",
       "    <tr>\n",
       "      <th>female</th>\n",
       "      <td>0.32</td>\n",
       "    </tr>\n",
       "  </tbody>\n",
       "</table>\n",
       "</div>"
      ],
      "text/plain": [
       "        proportion\n",
       "sex               \n",
       "male          0.68\n",
       "female        0.32"
      ]
     },
     "execution_count": 26,
     "metadata": {},
     "output_type": "execute_result"
    },
    {
     "data": {
      "text/html": [
       "<div>\n",
       "<style scoped>\n",
       "    .dataframe tbody tr th:only-of-type {\n",
       "        vertical-align: middle;\n",
       "    }\n",
       "\n",
       "    .dataframe tbody tr th {\n",
       "        vertical-align: top;\n",
       "    }\n",
       "\n",
       "    .dataframe thead th {\n",
       "        text-align: right;\n",
       "    }\n",
       "</style>\n",
       "<table border=\"1\" class=\"dataframe\">\n",
       "  <thead>\n",
       "    <tr style=\"text-align: right;\">\n",
       "      <th></th>\n",
       "      <th>proportion</th>\n",
       "    </tr>\n",
       "    <tr>\n",
       "      <th>cp</th>\n",
       "      <th></th>\n",
       "    </tr>\n",
       "  </thead>\n",
       "  <tbody>\n",
       "    <tr>\n",
       "      <th>asymptomatic</th>\n",
       "      <td>0.48</td>\n",
       "    </tr>\n",
       "    <tr>\n",
       "      <th>non-anginal pain</th>\n",
       "      <td>0.28</td>\n",
       "    </tr>\n",
       "    <tr>\n",
       "      <th>atypical angina</th>\n",
       "      <td>0.17</td>\n",
       "    </tr>\n",
       "    <tr>\n",
       "      <th>typical angina</th>\n",
       "      <td>0.08</td>\n",
       "    </tr>\n",
       "  </tbody>\n",
       "</table>\n",
       "</div>"
      ],
      "text/plain": [
       "                  proportion\n",
       "cp                          \n",
       "asymptomatic            0.48\n",
       "non-anginal pain        0.28\n",
       "atypical angina         0.17\n",
       "typical angina          0.08"
      ]
     },
     "execution_count": 26,
     "metadata": {},
     "output_type": "execute_result"
    },
    {
     "data": {
      "text/html": [
       "<div>\n",
       "<style scoped>\n",
       "    .dataframe tbody tr th:only-of-type {\n",
       "        vertical-align: middle;\n",
       "    }\n",
       "\n",
       "    .dataframe tbody tr th {\n",
       "        vertical-align: top;\n",
       "    }\n",
       "\n",
       "    .dataframe thead th {\n",
       "        text-align: right;\n",
       "    }\n",
       "</style>\n",
       "<table border=\"1\" class=\"dataframe\">\n",
       "  <thead>\n",
       "    <tr style=\"text-align: right;\">\n",
       "      <th></th>\n",
       "      <th>proportion</th>\n",
       "    </tr>\n",
       "    <tr>\n",
       "      <th>restecg</th>\n",
       "      <th></th>\n",
       "    </tr>\n",
       "  </thead>\n",
       "  <tbody>\n",
       "    <tr>\n",
       "      <th>normal</th>\n",
       "      <td>0.50</td>\n",
       "    </tr>\n",
       "    <tr>\n",
       "      <th>left ventricular hypertrophy</th>\n",
       "      <td>0.49</td>\n",
       "    </tr>\n",
       "    <tr>\n",
       "      <th>ST-T wave abnormality</th>\n",
       "      <td>0.01</td>\n",
       "    </tr>\n",
       "  </tbody>\n",
       "</table>\n",
       "</div>"
      ],
      "text/plain": [
       "                              proportion\n",
       "restecg                                 \n",
       "normal                              0.50\n",
       "left ventricular hypertrophy        0.49\n",
       "ST-T wave abnormality               0.01"
      ]
     },
     "execution_count": 26,
     "metadata": {},
     "output_type": "execute_result"
    },
    {
     "data": {
      "text/html": [
       "<div>\n",
       "<style scoped>\n",
       "    .dataframe tbody tr th:only-of-type {\n",
       "        vertical-align: middle;\n",
       "    }\n",
       "\n",
       "    .dataframe tbody tr th {\n",
       "        vertical-align: top;\n",
       "    }\n",
       "\n",
       "    .dataframe thead th {\n",
       "        text-align: right;\n",
       "    }\n",
       "</style>\n",
       "<table border=\"1\" class=\"dataframe\">\n",
       "  <thead>\n",
       "    <tr style=\"text-align: right;\">\n",
       "      <th></th>\n",
       "      <th>proportion</th>\n",
       "    </tr>\n",
       "    <tr>\n",
       "      <th>slope</th>\n",
       "      <th></th>\n",
       "    </tr>\n",
       "  </thead>\n",
       "  <tbody>\n",
       "    <tr>\n",
       "      <th>upsloping</th>\n",
       "      <td>0.47</td>\n",
       "    </tr>\n",
       "    <tr>\n",
       "      <th>fat</th>\n",
       "      <td>0.46</td>\n",
       "    </tr>\n",
       "    <tr>\n",
       "      <th>downsloping</th>\n",
       "      <td>0.07</td>\n",
       "    </tr>\n",
       "  </tbody>\n",
       "</table>\n",
       "</div>"
      ],
      "text/plain": [
       "             proportion\n",
       "slope                  \n",
       "upsloping          0.47\n",
       "fat                0.46\n",
       "downsloping        0.07"
      ]
     },
     "execution_count": 26,
     "metadata": {},
     "output_type": "execute_result"
    },
    {
     "data": {
      "text/html": [
       "<div>\n",
       "<style scoped>\n",
       "    .dataframe tbody tr th:only-of-type {\n",
       "        vertical-align: middle;\n",
       "    }\n",
       "\n",
       "    .dataframe tbody tr th {\n",
       "        vertical-align: top;\n",
       "    }\n",
       "\n",
       "    .dataframe thead th {\n",
       "        text-align: right;\n",
       "    }\n",
       "</style>\n",
       "<table border=\"1\" class=\"dataframe\">\n",
       "  <thead>\n",
       "    <tr style=\"text-align: right;\">\n",
       "      <th></th>\n",
       "      <th>proportion</th>\n",
       "    </tr>\n",
       "    <tr>\n",
       "      <th>thal</th>\n",
       "      <th></th>\n",
       "    </tr>\n",
       "  </thead>\n",
       "  <tbody>\n",
       "    <tr>\n",
       "      <th>normal</th>\n",
       "      <td>0.55</td>\n",
       "    </tr>\n",
       "    <tr>\n",
       "      <th>reversible defect</th>\n",
       "      <td>0.39</td>\n",
       "    </tr>\n",
       "    <tr>\n",
       "      <th>fixed defect</th>\n",
       "      <td>0.06</td>\n",
       "    </tr>\n",
       "  </tbody>\n",
       "</table>\n",
       "</div>"
      ],
      "text/plain": [
       "                   proportion\n",
       "thal                         \n",
       "normal                   0.55\n",
       "reversible defect        0.39\n",
       "fixed defect             0.06"
      ]
     },
     "execution_count": 26,
     "metadata": {},
     "output_type": "execute_result"
    },
    {
     "data": {
      "text/html": [
       "<div>\n",
       "<style scoped>\n",
       "    .dataframe tbody tr th:only-of-type {\n",
       "        vertical-align: middle;\n",
       "    }\n",
       "\n",
       "    .dataframe tbody tr th {\n",
       "        vertical-align: top;\n",
       "    }\n",
       "\n",
       "    .dataframe thead th {\n",
       "        text-align: right;\n",
       "    }\n",
       "</style>\n",
       "<table border=\"1\" class=\"dataframe\">\n",
       "  <thead>\n",
       "    <tr style=\"text-align: right;\">\n",
       "      <th></th>\n",
       "      <th>proportion</th>\n",
       "    </tr>\n",
       "    <tr>\n",
       "      <th>Diagnosed</th>\n",
       "      <th></th>\n",
       "    </tr>\n",
       "  </thead>\n",
       "  <tbody>\n",
       "    <tr>\n",
       "      <th>&lt;50%</th>\n",
       "      <td>0.54</td>\n",
       "    </tr>\n",
       "    <tr>\n",
       "      <th>&gt;50%</th>\n",
       "      <td>0.46</td>\n",
       "    </tr>\n",
       "  </tbody>\n",
       "</table>\n",
       "</div>"
      ],
      "text/plain": [
       "           proportion\n",
       "Diagnosed            \n",
       "<50%             0.54\n",
       ">50%             0.46"
      ]
     },
     "execution_count": 26,
     "metadata": {},
     "output_type": "execute_result"
    }
   ],
   "source": [
    "for col in cat_columns:\n",
    "    df[col].value_counts(normalize=True).round(2).to_frame()"
   ]
  },
  {
   "cell_type": "markdown",
   "id": "2cf8cc4a",
   "metadata": {},
   "source": [
    "# Masks"
   ]
  },
  {
   "cell_type": "markdown",
   "id": "3d721deb",
   "metadata": {},
   "source": [
    "<img src=\"https://images7.memedroid.com/images/UPLOADED669/640ef2a4662e1.jpeg\" alt=\"Description\" width=\"450\">"
   ]
  },
  {
   "cell_type": "markdown",
   "id": "366d9c0d",
   "metadata": {},
   "source": [
    "Masks are great because they allow us to select only part of data you want"
   ]
  },
  {
   "cell_type": "code",
   "execution_count": 27,
   "id": "0ec63095",
   "metadata": {},
   "outputs": [],
   "source": [
    "mask = df['age'] > 55"
   ]
  },
  {
   "cell_type": "code",
   "execution_count": 30,
   "id": "338a5238",
   "metadata": {},
   "outputs": [
    {
     "data": {
      "text/plain": [
       "id\n",
       "192    False\n",
       "189     True\n",
       "0       True\n",
       "23      True\n",
       "284     True\n",
       "       ...  \n",
       "9      False\n",
       "109    False\n",
       "185     True\n",
       "111     True\n",
       "36     False\n",
       "Name: age, Length: 303, dtype: bool"
      ]
     },
     "execution_count": 30,
     "metadata": {},
     "output_type": "execute_result"
    }
   ],
   "source": [
    "mask"
   ]
  },
  {
   "cell_type": "code",
   "execution_count": 31,
   "id": "23f75c8e",
   "metadata": {},
   "outputs": [
    {
     "data": {
      "text/plain": [
       "age\n",
       "True     152\n",
       "False    151\n",
       "Name: count, dtype: int64"
      ]
     },
     "execution_count": 31,
     "metadata": {},
     "output_type": "execute_result"
    }
   ],
   "source": [
    "mask.value_counts()"
   ]
  },
  {
   "cell_type": "markdown",
   "id": "ba4310af",
   "metadata": {},
   "source": [
    "and now we use this mask to select only the rows with `True`"
   ]
  },
  {
   "cell_type": "code",
   "execution_count": 32,
   "id": "325d40fe",
   "metadata": {},
   "outputs": [
    {
     "data": {
      "text/html": [
       "<div>\n",
       "<style scoped>\n",
       "    .dataframe tbody tr th:only-of-type {\n",
       "        vertical-align: middle;\n",
       "    }\n",
       "\n",
       "    .dataframe tbody tr th {\n",
       "        vertical-align: top;\n",
       "    }\n",
       "\n",
       "    .dataframe thead th {\n",
       "        text-align: right;\n",
       "    }\n",
       "</style>\n",
       "<table border=\"1\" class=\"dataframe\">\n",
       "  <thead>\n",
       "    <tr style=\"text-align: right;\">\n",
       "      <th></th>\n",
       "      <th>age</th>\n",
       "      <th>sex</th>\n",
       "      <th>cp</th>\n",
       "      <th>trestbps</th>\n",
       "      <th>chol</th>\n",
       "      <th>fbs</th>\n",
       "      <th>restecg</th>\n",
       "      <th>thalach</th>\n",
       "      <th>exang</th>\n",
       "      <th>oldpeak</th>\n",
       "      <th>slope</th>\n",
       "      <th>ca</th>\n",
       "      <th>thal</th>\n",
       "      <th>Diagnosed</th>\n",
       "    </tr>\n",
       "    <tr>\n",
       "      <th>id</th>\n",
       "      <th></th>\n",
       "      <th></th>\n",
       "      <th></th>\n",
       "      <th></th>\n",
       "      <th></th>\n",
       "      <th></th>\n",
       "      <th></th>\n",
       "      <th></th>\n",
       "      <th></th>\n",
       "      <th></th>\n",
       "      <th></th>\n",
       "      <th></th>\n",
       "      <th></th>\n",
       "      <th></th>\n",
       "    </tr>\n",
       "  </thead>\n",
       "  <tbody>\n",
       "    <tr>\n",
       "      <th>189</th>\n",
       "      <td>69</td>\n",
       "      <td>male</td>\n",
       "      <td>non-anginal pain</td>\n",
       "      <td>140</td>\n",
       "      <td>254</td>\n",
       "      <td>0</td>\n",
       "      <td>left ventricular hypertrophy</td>\n",
       "      <td>146</td>\n",
       "      <td>0</td>\n",
       "      <td>2.0</td>\n",
       "      <td>fat</td>\n",
       "      <td>3.0</td>\n",
       "      <td>reversible defect</td>\n",
       "      <td>&gt;50%</td>\n",
       "    </tr>\n",
       "    <tr>\n",
       "      <th>0</th>\n",
       "      <td>63</td>\n",
       "      <td>male</td>\n",
       "      <td>typical angina</td>\n",
       "      <td>145</td>\n",
       "      <td>233</td>\n",
       "      <td>1</td>\n",
       "      <td>left ventricular hypertrophy</td>\n",
       "      <td>150</td>\n",
       "      <td>0</td>\n",
       "      <td>2.3</td>\n",
       "      <td>downsloping</td>\n",
       "      <td>0.0</td>\n",
       "      <td>fixed defect</td>\n",
       "      <td>&lt;50%</td>\n",
       "    </tr>\n",
       "    <tr>\n",
       "      <th>23</th>\n",
       "      <td>58</td>\n",
       "      <td>male</td>\n",
       "      <td>non-anginal pain</td>\n",
       "      <td>132</td>\n",
       "      <td>224</td>\n",
       "      <td>0</td>\n",
       "      <td>left ventricular hypertrophy</td>\n",
       "      <td>173</td>\n",
       "      <td>0</td>\n",
       "      <td>3.2</td>\n",
       "      <td>upsloping</td>\n",
       "      <td>2.0</td>\n",
       "      <td>reversible defect</td>\n",
       "      <td>&gt;50%</td>\n",
       "    </tr>\n",
       "    <tr>\n",
       "      <th>284</th>\n",
       "      <td>61</td>\n",
       "      <td>male</td>\n",
       "      <td>asymptomatic</td>\n",
       "      <td>148</td>\n",
       "      <td>203</td>\n",
       "      <td>0</td>\n",
       "      <td>normal</td>\n",
       "      <td>161</td>\n",
       "      <td>0</td>\n",
       "      <td>0.0</td>\n",
       "      <td>upsloping</td>\n",
       "      <td>1.0</td>\n",
       "      <td>reversible defect</td>\n",
       "      <td>&gt;50%</td>\n",
       "    </tr>\n",
       "    <tr>\n",
       "      <th>177</th>\n",
       "      <td>56</td>\n",
       "      <td>male</td>\n",
       "      <td>asymptomatic</td>\n",
       "      <td>132</td>\n",
       "      <td>184</td>\n",
       "      <td>0</td>\n",
       "      <td>left ventricular hypertrophy</td>\n",
       "      <td>105</td>\n",
       "      <td>1</td>\n",
       "      <td>2.1</td>\n",
       "      <td>fat</td>\n",
       "      <td>1.0</td>\n",
       "      <td>fixed defect</td>\n",
       "      <td>&gt;50%</td>\n",
       "    </tr>\n",
       "    <tr>\n",
       "      <th>...</th>\n",
       "      <td>...</td>\n",
       "      <td>...</td>\n",
       "      <td>...</td>\n",
       "      <td>...</td>\n",
       "      <td>...</td>\n",
       "      <td>...</td>\n",
       "      <td>...</td>\n",
       "      <td>...</td>\n",
       "      <td>...</td>\n",
       "      <td>...</td>\n",
       "      <td>...</td>\n",
       "      <td>...</td>\n",
       "      <td>...</td>\n",
       "      <td>...</td>\n",
       "    </tr>\n",
       "    <tr>\n",
       "      <th>251</th>\n",
       "      <td>58</td>\n",
       "      <td>male</td>\n",
       "      <td>asymptomatic</td>\n",
       "      <td>146</td>\n",
       "      <td>218</td>\n",
       "      <td>0</td>\n",
       "      <td>normal</td>\n",
       "      <td>105</td>\n",
       "      <td>0</td>\n",
       "      <td>2.0</td>\n",
       "      <td>fat</td>\n",
       "      <td>1.0</td>\n",
       "      <td>reversible defect</td>\n",
       "      <td>&gt;50%</td>\n",
       "    </tr>\n",
       "    <tr>\n",
       "      <th>163</th>\n",
       "      <td>58</td>\n",
       "      <td>female</td>\n",
       "      <td>asymptomatic</td>\n",
       "      <td>100</td>\n",
       "      <td>248</td>\n",
       "      <td>0</td>\n",
       "      <td>left ventricular hypertrophy</td>\n",
       "      <td>122</td>\n",
       "      <td>0</td>\n",
       "      <td>1.0</td>\n",
       "      <td>fat</td>\n",
       "      <td>0.0</td>\n",
       "      <td>normal</td>\n",
       "      <td>&lt;50%</td>\n",
       "    </tr>\n",
       "    <tr>\n",
       "      <th>244</th>\n",
       "      <td>60</td>\n",
       "      <td>female</td>\n",
       "      <td>non-anginal pain</td>\n",
       "      <td>120</td>\n",
       "      <td>178</td>\n",
       "      <td>1</td>\n",
       "      <td>normal</td>\n",
       "      <td>96</td>\n",
       "      <td>0</td>\n",
       "      <td>0.0</td>\n",
       "      <td>upsloping</td>\n",
       "      <td>0.0</td>\n",
       "      <td>normal</td>\n",
       "      <td>&lt;50%</td>\n",
       "    </tr>\n",
       "    <tr>\n",
       "      <th>185</th>\n",
       "      <td>63</td>\n",
       "      <td>female</td>\n",
       "      <td>atypical angina</td>\n",
       "      <td>140</td>\n",
       "      <td>195</td>\n",
       "      <td>0</td>\n",
       "      <td>normal</td>\n",
       "      <td>179</td>\n",
       "      <td>0</td>\n",
       "      <td>0.0</td>\n",
       "      <td>upsloping</td>\n",
       "      <td>2.0</td>\n",
       "      <td>normal</td>\n",
       "      <td>&lt;50%</td>\n",
       "    </tr>\n",
       "    <tr>\n",
       "      <th>111</th>\n",
       "      <td>56</td>\n",
       "      <td>male</td>\n",
       "      <td>asymptomatic</td>\n",
       "      <td>125</td>\n",
       "      <td>249</td>\n",
       "      <td>1</td>\n",
       "      <td>left ventricular hypertrophy</td>\n",
       "      <td>144</td>\n",
       "      <td>1</td>\n",
       "      <td>1.2</td>\n",
       "      <td>fat</td>\n",
       "      <td>1.0</td>\n",
       "      <td>normal</td>\n",
       "      <td>&gt;50%</td>\n",
       "    </tr>\n",
       "  </tbody>\n",
       "</table>\n",
       "<p>152 rows × 14 columns</p>\n",
       "</div>"
      ],
      "text/plain": [
       "     age     sex                cp  trestbps  chol  fbs  \\\n",
       "id                                                        \n",
       "189   69    male  non-anginal pain       140   254    0   \n",
       "0     63    male    typical angina       145   233    1   \n",
       "23    58    male  non-anginal pain       132   224    0   \n",
       "284   61    male      asymptomatic       148   203    0   \n",
       "177   56    male      asymptomatic       132   184    0   \n",
       "..   ...     ...               ...       ...   ...  ...   \n",
       "251   58    male      asymptomatic       146   218    0   \n",
       "163   58  female      asymptomatic       100   248    0   \n",
       "244   60  female  non-anginal pain       120   178    1   \n",
       "185   63  female   atypical angina       140   195    0   \n",
       "111   56    male      asymptomatic       125   249    1   \n",
       "\n",
       "                          restecg  thalach  exang  oldpeak        slope   ca  \\\n",
       "id                                                                             \n",
       "189  left ventricular hypertrophy      146      0      2.0          fat  3.0   \n",
       "0    left ventricular hypertrophy      150      0      2.3  downsloping  0.0   \n",
       "23   left ventricular hypertrophy      173      0      3.2    upsloping  2.0   \n",
       "284                        normal      161      0      0.0    upsloping  1.0   \n",
       "177  left ventricular hypertrophy      105      1      2.1          fat  1.0   \n",
       "..                            ...      ...    ...      ...          ...  ...   \n",
       "251                        normal      105      0      2.0          fat  1.0   \n",
       "163  left ventricular hypertrophy      122      0      1.0          fat  0.0   \n",
       "244                        normal       96      0      0.0    upsloping  0.0   \n",
       "185                        normal      179      0      0.0    upsloping  2.0   \n",
       "111  left ventricular hypertrophy      144      1      1.2          fat  1.0   \n",
       "\n",
       "                  thal Diagnosed  \n",
       "id                                \n",
       "189  reversible defect      >50%  \n",
       "0         fixed defect      <50%  \n",
       "23   reversible defect      >50%  \n",
       "284  reversible defect      >50%  \n",
       "177       fixed defect      >50%  \n",
       "..                 ...       ...  \n",
       "251  reversible defect      >50%  \n",
       "163             normal      <50%  \n",
       "244             normal      <50%  \n",
       "185             normal      <50%  \n",
       "111             normal      >50%  \n",
       "\n",
       "[152 rows x 14 columns]"
      ]
     },
     "execution_count": 32,
     "metadata": {},
     "output_type": "execute_result"
    }
   ],
   "source": [
    "df.loc[mask,:]"
   ]
  },
  {
   "cell_type": "code",
   "execution_count": 33,
   "id": "bbcd19c5",
   "metadata": {},
   "outputs": [
    {
     "data": {
      "text/plain": [
       "56"
      ]
     },
     "execution_count": 33,
     "metadata": {},
     "output_type": "execute_result"
    }
   ],
   "source": [
    "# let's confirm the above\n",
    "df.loc[mask,'age'].min()"
   ]
  },
  {
   "cell_type": "markdown",
   "id": "7aa4c0e7",
   "metadata": {},
   "source": [
    "One cool thing about this is that you can better analyze your data, check the following example:"
   ]
  },
  {
   "cell_type": "code",
   "execution_count": 34,
   "id": "07299c4c",
   "metadata": {},
   "outputs": [
    {
     "data": {
      "text/plain": [
       "Diagnosed\n",
       ">50%    0.592105\n",
       "<50%    0.407895\n",
       "Name: proportion, dtype: float64"
      ]
     },
     "execution_count": 34,
     "metadata": {},
     "output_type": "execute_result"
    }
   ],
   "source": [
    "df.loc[mask,'Diagnosed'].value_counts(normalize=True)"
   ]
  },
  {
   "cell_type": "markdown",
   "id": "784a721b",
   "metadata": {},
   "source": [
    "Does this pattern maintain for people younger than 55?"
   ]
  },
  {
   "cell_type": "code",
   "execution_count": 38,
   "id": "69e28c44",
   "metadata": {},
   "outputs": [
    {
     "data": {
      "text/html": [
       "<div>\n",
       "<style scoped>\n",
       "    .dataframe tbody tr th:only-of-type {\n",
       "        vertical-align: middle;\n",
       "    }\n",
       "\n",
       "    .dataframe tbody tr th {\n",
       "        vertical-align: top;\n",
       "    }\n",
       "\n",
       "    .dataframe thead th {\n",
       "        text-align: right;\n",
       "    }\n",
       "</style>\n",
       "<table border=\"1\" class=\"dataframe\">\n",
       "  <thead>\n",
       "    <tr style=\"text-align: right;\">\n",
       "      <th></th>\n",
       "      <th>age</th>\n",
       "      <th>sex</th>\n",
       "      <th>cp</th>\n",
       "      <th>trestbps</th>\n",
       "      <th>chol</th>\n",
       "      <th>fbs</th>\n",
       "      <th>restecg</th>\n",
       "      <th>thalach</th>\n",
       "      <th>exang</th>\n",
       "      <th>oldpeak</th>\n",
       "      <th>slope</th>\n",
       "      <th>ca</th>\n",
       "      <th>thal</th>\n",
       "      <th>Diagnosed</th>\n",
       "    </tr>\n",
       "    <tr>\n",
       "      <th>id</th>\n",
       "      <th></th>\n",
       "      <th></th>\n",
       "      <th></th>\n",
       "      <th></th>\n",
       "      <th></th>\n",
       "      <th></th>\n",
       "      <th></th>\n",
       "      <th></th>\n",
       "      <th></th>\n",
       "      <th></th>\n",
       "      <th></th>\n",
       "      <th></th>\n",
       "      <th></th>\n",
       "      <th></th>\n",
       "    </tr>\n",
       "  </thead>\n",
       "  <tbody>\n",
       "    <tr>\n",
       "      <th>192</th>\n",
       "      <td>43</td>\n",
       "      <td>male</td>\n",
       "      <td>asymptomatic</td>\n",
       "      <td>132</td>\n",
       "      <td>247</td>\n",
       "      <td>1</td>\n",
       "      <td>left ventricular hypertrophy</td>\n",
       "      <td>143</td>\n",
       "      <td>1</td>\n",
       "      <td>0.1</td>\n",
       "      <td>fat</td>\n",
       "      <td>NaN</td>\n",
       "      <td>reversible defect</td>\n",
       "      <td>&gt;50%</td>\n",
       "    </tr>\n",
       "    <tr>\n",
       "      <th>89</th>\n",
       "      <td>51</td>\n",
       "      <td>female</td>\n",
       "      <td>non-anginal pain</td>\n",
       "      <td>130</td>\n",
       "      <td>256</td>\n",
       "      <td>0</td>\n",
       "      <td>left ventricular hypertrophy</td>\n",
       "      <td>149</td>\n",
       "      <td>0</td>\n",
       "      <td>0.5</td>\n",
       "      <td>upsloping</td>\n",
       "      <td>0.0</td>\n",
       "      <td>normal</td>\n",
       "      <td>&lt;50%</td>\n",
       "    </tr>\n",
       "    <tr>\n",
       "      <th>127</th>\n",
       "      <td>54</td>\n",
       "      <td>male</td>\n",
       "      <td>asymptomatic</td>\n",
       "      <td>110</td>\n",
       "      <td>239</td>\n",
       "      <td>0</td>\n",
       "      <td>normal</td>\n",
       "      <td>126</td>\n",
       "      <td>1</td>\n",
       "      <td>2.8</td>\n",
       "      <td>fat</td>\n",
       "      <td>1.0</td>\n",
       "      <td>reversible defect</td>\n",
       "      <td>&gt;50%</td>\n",
       "    </tr>\n",
       "  </tbody>\n",
       "</table>\n",
       "</div>"
      ],
      "text/plain": [
       "     age     sex                cp  trestbps  chol  fbs  \\\n",
       "id                                                        \n",
       "192   43    male      asymptomatic       132   247    1   \n",
       "89    51  female  non-anginal pain       130   256    0   \n",
       "127   54    male      asymptomatic       110   239    0   \n",
       "\n",
       "                          restecg  thalach  exang  oldpeak      slope   ca  \\\n",
       "id                                                                           \n",
       "192  left ventricular hypertrophy      143      1      0.1        fat  NaN   \n",
       "89   left ventricular hypertrophy      149      0      0.5  upsloping  0.0   \n",
       "127                        normal      126      1      2.8        fat  1.0   \n",
       "\n",
       "                  thal Diagnosed  \n",
       "id                                \n",
       "192  reversible defect      >50%  \n",
       "89              normal      <50%  \n",
       "127  reversible defect      >50%  "
      ]
     },
     "execution_count": 38,
     "metadata": {},
     "output_type": "execute_result"
    }
   ],
   "source": [
    "df.loc[~mask,:].head(3)"
   ]
  },
  {
   "cell_type": "code",
   "execution_count": 40,
   "id": "b3dde872",
   "metadata": {},
   "outputs": [
    {
     "data": {
      "text/plain": [
       "Diagnosed\n",
       "<50%    0.675497\n",
       ">50%    0.324503\n",
       "Name: proportion, dtype: float64"
      ]
     },
     "execution_count": 40,
     "metadata": {},
     "output_type": "execute_result"
    }
   ],
   "source": [
    "df.loc[~mask,'Diagnosed'].value_counts(normalize=True)"
   ]
  },
  {
   "cell_type": "markdown",
   "id": "47b6c2bc",
   "metadata": {},
   "source": [
    "Very different!"
   ]
  },
  {
   "cell_type": "markdown",
   "id": "12f67bda",
   "metadata": {},
   "source": [
    "We can also join together masks as well with logical operations"
   ]
  },
  {
   "cell_type": "code",
   "execution_count": 42,
   "id": "8f98830a",
   "metadata": {},
   "outputs": [],
   "source": [
    "mask_age_above_55 = df['age'] > 55\n",
    "mask_cp_asymptomatic = df['cp'] == 'asymptomatic'"
   ]
  },
  {
   "cell_type": "code",
   "execution_count": 45,
   "id": "adc1da78",
   "metadata": {},
   "outputs": [
    {
     "data": {
      "text/html": [
       "<div>\n",
       "<style scoped>\n",
       "    .dataframe tbody tr th:only-of-type {\n",
       "        vertical-align: middle;\n",
       "    }\n",
       "\n",
       "    .dataframe tbody tr th {\n",
       "        vertical-align: top;\n",
       "    }\n",
       "\n",
       "    .dataframe thead th {\n",
       "        text-align: right;\n",
       "    }\n",
       "</style>\n",
       "<table border=\"1\" class=\"dataframe\">\n",
       "  <thead>\n",
       "    <tr style=\"text-align: right;\">\n",
       "      <th></th>\n",
       "      <th>age</th>\n",
       "      <th>sex</th>\n",
       "      <th>cp</th>\n",
       "      <th>trestbps</th>\n",
       "      <th>chol</th>\n",
       "      <th>fbs</th>\n",
       "      <th>restecg</th>\n",
       "      <th>thalach</th>\n",
       "      <th>exang</th>\n",
       "      <th>oldpeak</th>\n",
       "      <th>slope</th>\n",
       "      <th>ca</th>\n",
       "      <th>thal</th>\n",
       "      <th>Diagnosed</th>\n",
       "    </tr>\n",
       "    <tr>\n",
       "      <th>id</th>\n",
       "      <th></th>\n",
       "      <th></th>\n",
       "      <th></th>\n",
       "      <th></th>\n",
       "      <th></th>\n",
       "      <th></th>\n",
       "      <th></th>\n",
       "      <th></th>\n",
       "      <th></th>\n",
       "      <th></th>\n",
       "      <th></th>\n",
       "      <th></th>\n",
       "      <th></th>\n",
       "      <th></th>\n",
       "    </tr>\n",
       "  </thead>\n",
       "  <tbody>\n",
       "    <tr>\n",
       "      <th>284</th>\n",
       "      <td>61</td>\n",
       "      <td>male</td>\n",
       "      <td>asymptomatic</td>\n",
       "      <td>148</td>\n",
       "      <td>203</td>\n",
       "      <td>0</td>\n",
       "      <td>normal</td>\n",
       "      <td>161</td>\n",
       "      <td>0</td>\n",
       "      <td>0.0</td>\n",
       "      <td>upsloping</td>\n",
       "      <td>1.0</td>\n",
       "      <td>reversible defect</td>\n",
       "      <td>&gt;50%</td>\n",
       "    </tr>\n",
       "    <tr>\n",
       "      <th>177</th>\n",
       "      <td>56</td>\n",
       "      <td>male</td>\n",
       "      <td>asymptomatic</td>\n",
       "      <td>132</td>\n",
       "      <td>184</td>\n",
       "      <td>0</td>\n",
       "      <td>left ventricular hypertrophy</td>\n",
       "      <td>105</td>\n",
       "      <td>1</td>\n",
       "      <td>2.1</td>\n",
       "      <td>fat</td>\n",
       "      <td>1.0</td>\n",
       "      <td>fixed defect</td>\n",
       "      <td>&gt;50%</td>\n",
       "    </tr>\n",
       "    <tr>\n",
       "      <th>96</th>\n",
       "      <td>59</td>\n",
       "      <td>male</td>\n",
       "      <td>asymptomatic</td>\n",
       "      <td>110</td>\n",
       "      <td>239</td>\n",
       "      <td>0</td>\n",
       "      <td>left ventricular hypertrophy</td>\n",
       "      <td>142</td>\n",
       "      <td>1</td>\n",
       "      <td>1.2</td>\n",
       "      <td>fat</td>\n",
       "      <td>1.0</td>\n",
       "      <td>reversible defect</td>\n",
       "      <td>&gt;50%</td>\n",
       "    </tr>\n",
       "  </tbody>\n",
       "</table>\n",
       "</div>"
      ],
      "text/plain": [
       "     age   sex            cp  trestbps  chol  fbs  \\\n",
       "id                                                  \n",
       "284   61  male  asymptomatic       148   203    0   \n",
       "177   56  male  asymptomatic       132   184    0   \n",
       "96    59  male  asymptomatic       110   239    0   \n",
       "\n",
       "                          restecg  thalach  exang  oldpeak      slope   ca  \\\n",
       "id                                                                           \n",
       "284                        normal      161      0      0.0  upsloping  1.0   \n",
       "177  left ventricular hypertrophy      105      1      2.1        fat  1.0   \n",
       "96   left ventricular hypertrophy      142      1      1.2        fat  1.0   \n",
       "\n",
       "                  thal Diagnosed  \n",
       "id                                \n",
       "284  reversible defect      >50%  \n",
       "177       fixed defect      >50%  \n",
       "96   reversible defect      >50%  "
      ]
     },
     "execution_count": 45,
     "metadata": {},
     "output_type": "execute_result"
    }
   ],
   "source": [
    "df.loc[mask_age_above_55 & mask_cp_asymptomatic,:].head(3)"
   ]
  },
  {
   "cell_type": "markdown",
   "id": "b03fc52f",
   "metadata": {},
   "source": [
    "# GroupBy"
   ]
  }
 ],
 "metadata": {
  "kernelspec": {
   "display_name": "Python 3 (ipykernel)",
   "language": "python",
   "name": "python3"
  },
  "language_info": {
   "codemirror_mode": {
    "name": "ipython",
    "version": 3
   },
   "file_extension": ".py",
   "mimetype": "text/x-python",
   "name": "python",
   "nbconvert_exporter": "python",
   "pygments_lexer": "ipython3",
   "version": "3.12.3"
  }
 },
 "nbformat": 4,
 "nbformat_minor": 5
}
